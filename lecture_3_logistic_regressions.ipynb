{
 "cells": [
  {
   "cell_type": "markdown",
   "metadata": {},
   "source": [
    "# Lecture 3: Logistic Regression"
   ]
  },
  {
   "cell_type": "markdown",
   "metadata": {},
   "source": [
    "Here, we'll see examples of how to use the scikit-learn logistic regression class, as well as the statsmodels GLM function, which is much more similar to R's glm function for doing logistic regression."
   ]
  },
  {
   "cell_type": "markdown",
   "metadata": {},
   "source": [
    "You can read about the scikit-learn logistic regression function here:"
   ]
  },
  {
   "cell_type": "markdown",
   "metadata": {},
   "source": [
    "[http://scikit-learn.org/stable/modules/generated/sklearn.linear_model.LogisticRegression.html](http://scikit-learn.org/stable/modules/generated/sklearn.linear_model.LogisticRegression.html)"
   ]
  },
  {
   "cell_type": "code",
   "execution_count": null,
   "metadata": {
    "collapsed": false,
    "scrolled": true
   },
   "outputs": [],
   "source": [
    "%matplotlib inline"
   ]
  },
  {
   "cell_type": "code",
   "execution_count": 3,
   "metadata": {
    "collapsed": false,
    "scrolled": true
   },
   "outputs": [
    {
     "name": "stderr",
     "output_type": "stream",
     "text": [
      ":0: FutureWarning: IPython widgets are experimental and may change in the future.\n"
     ]
    }
   ],
   "source": [
    "import numpy as np\n",
    "import pandas as pd\n",
    "import matplotlib.pyplot as plt\n",
    "from sklearn.linear_model import LogisticRegression\n",
    "# sklearn.metrics has a bunch of really handy functions for measuring accuracy in classification\n",
    "from sklearn.metrics import confusion_matrix, accuracy_score, classification_report, roc_curve, roc_auc_score\n",
    "from sklearn import datasets\n",
    "import seaborn as sns"
   ]
  },
  {
   "cell_type": "markdown",
   "metadata": {},
   "source": [
    "Let's load the famous iris dataset, which has measured features of different species of iris:"
   ]
  },
  {
   "cell_type": "code",
   "execution_count": null,
   "metadata": {
    "collapsed": false,
    "scrolled": true
   },
   "outputs": [],
   "source": [
    "iris = datasets.load_iris()"
   ]
  },
  {
   "cell_type": "markdown",
   "metadata": {},
   "source": [
    "Let's get some documentation on the iris data set we just loaded."
   ]
  },
  {
   "cell_type": "code",
   "execution_count": null,
   "metadata": {
    "collapsed": false
   },
   "outputs": [],
   "source": [
    "?datasets.load_iris"
   ]
  },
  {
   "cell_type": "markdown",
   "metadata": {},
   "source": [
    "Notice that the ```iris``` object we created using ```load_iris()``` is not just a data frame.  It is actually an object that stores\n",
    "  * ```data```: the features, or $X$, data\n",
    "  * ```target```: the labels, or $Y$, data, stored as numbers\n",
    "  * ```target_names```: the meaning of the numerical labels stored in ```target```\n",
    "  * ```feature_names```: the column names for the features\n",
    "  * ```DESCR```: a description of the dataset"
   ]
  },
  {
   "cell_type": "code",
   "execution_count": null,
   "metadata": {
    "collapsed": false
   },
   "outputs": [],
   "source": [
    "# We see that we have four predictors\n",
    "iris.data"
   ]
  },
  {
   "cell_type": "code",
   "execution_count": null,
   "metadata": {
    "collapsed": false
   },
   "outputs": [],
   "source": [
    "# The output is coded as either 0,1, or 2\n",
    "iris.target"
   ]
  },
  {
   "cell_type": "code",
   "execution_count": null,
   "metadata": {
    "collapsed": false,
    "scrolled": true
   },
   "outputs": [],
   "source": [
    "# Each output code is a type of iris\n",
    "iris.target_names"
   ]
  },
  {
   "cell_type": "code",
   "execution_count": 25,
   "metadata": {
    "collapsed": false
   },
   "outputs": [
    {
     "data": {
      "text/plain": [
       "['sepal length (cm)',\n",
       " 'sepal width (cm)',\n",
       " 'petal length (cm)',\n",
       " 'petal width (cm)']"
      ]
     },
     "execution_count": 25,
     "metadata": {},
     "output_type": "execute_result"
    }
   ],
   "source": [
    "# The predictors are different measurements of the plant (sepal and pedal)\n",
    "iris.feature_names"
   ]
  },
  {
   "cell_type": "code",
   "execution_count": null,
   "metadata": {
    "collapsed": true
   },
   "outputs": [],
   "source": []
  },
  {
   "cell_type": "code",
   "execution_count": 24,
   "metadata": {
    "collapsed": false
   },
   "outputs": [
    {
     "name": "stdout",
     "output_type": "stream",
     "text": [
      "Iris Plants Database\n",
      "\n",
      "Notes\n",
      "-----\n",
      "Data Set Characteristics:\n",
      "    :Number of Instances: 150 (50 in each of three classes)\n",
      "    :Number of Attributes: 4 numeric, predictive attributes and the class\n",
      "    :Attribute Information:\n",
      "        - sepal length in cm\n",
      "        - sepal width in cm\n",
      "        - petal length in cm\n",
      "        - petal width in cm\n",
      "        - class:\n",
      "                - Iris-Setosa\n",
      "                - Iris-Versicolour\n",
      "                - Iris-Virginica\n",
      "    :Summary Statistics:\n",
      "\n",
      "    ============== ==== ==== ======= ===== ====================\n",
      "                    Min  Max   Mean    SD   Class Correlation\n",
      "    ============== ==== ==== ======= ===== ====================\n",
      "    sepal length:   4.3  7.9   5.84   0.83    0.7826\n",
      "    sepal width:    2.0  4.4   3.05   0.43   -0.4194\n",
      "    petal length:   1.0  6.9   3.76   1.76    0.9490  (high!)\n",
      "    petal width:    0.1  2.5   1.20  0.76     0.9565  (high!)\n",
      "    ============== ==== ==== ======= ===== ====================\n",
      "\n",
      "    :Missing Attribute Values: None\n",
      "    :Class Distribution: 33.3% for each of 3 classes.\n",
      "    :Creator: R.A. Fisher\n",
      "    :Donor: Michael Marshall (MARSHALL%PLU@io.arc.nasa.gov)\n",
      "    :Date: July, 1988\n",
      "\n",
      "This is a copy of UCI ML iris datasets.\n",
      "http://archive.ics.uci.edu/ml/datasets/Iris\n",
      "\n",
      "The famous Iris database, first used by Sir R.A Fisher\n",
      "\n",
      "This is perhaps the best known database to be found in the\n",
      "pattern recognition literature.  Fisher's paper is a classic in the field and\n",
      "is referenced frequently to this day.  (See Duda & Hart, for example.)  The\n",
      "data set contains 3 classes of 50 instances each, where each class refers to a\n",
      "type of iris plant.  One class is linearly separable from the other 2; the\n",
      "latter are NOT linearly separable from each other.\n",
      "\n",
      "References\n",
      "----------\n",
      "   - Fisher,R.A. \"The use of multiple measurements in taxonomic problems\"\n",
      "     Annual Eugenics, 7, Part II, 179-188 (1936); also in \"Contributions to\n",
      "     Mathematical Statistics\" (John Wiley, NY, 1950).\n",
      "   - Duda,R.O., & Hart,P.E. (1973) Pattern Classification and Scene Analysis.\n",
      "     (Q327.D83) John Wiley & Sons.  ISBN 0-471-22361-1.  See page 218.\n",
      "   - Dasarathy, B.V. (1980) \"Nosing Around the Neighborhood: A New System\n",
      "     Structure and Classification Rule for Recognition in Partially Exposed\n",
      "     Environments\".  IEEE Transactions on Pattern Analysis and Machine\n",
      "     Intelligence, Vol. PAMI-2, No. 1, 67-71.\n",
      "   - Gates, G.W. (1972) \"The Reduced Nearest Neighbor Rule\".  IEEE Transactions\n",
      "     on Information Theory, May 1972, 431-433.\n",
      "   - See also: 1988 MLC Proceedings, 54-64.  Cheeseman et al\"s AUTOCLASS II\n",
      "     conceptual clustering system finds 3 classes in the data.\n",
      "   - Many, many more ...\n",
      "\n"
     ]
    }
   ],
   "source": [
    "# The description tells us more information about the data set\n",
    "print(iris.DESCR)"
   ]
  },
  {
   "cell_type": "markdown",
   "metadata": {},
   "source": [
    "Let's make a dataset which is only the first two predictors to keep things simple.  Notice that in this case, we have a response with more than two classes.  This is referrred to as the *multiclass* case.  scikit-learn lets you do this without any extra work.  On the backend, it will actually fit one binary logistic regression per class, trying to predict if each observation belongs to that class or not.  In order to make a prediction, it first makes predictions using each of the binary logistic regressions, then assigns the observation to the class with the highest score. This is call the 'one-vs-all' or 'one-vs-rest' approach."
   ]
  },
  {
   "cell_type": "code",
   "execution_count": 29,
   "metadata": {
    "collapsed": false,
    "scrolled": true
   },
   "outputs": [],
   "source": [
    "X = iris.data[:, :2]\n",
    "y = iris.target"
   ]
  },
  {
   "cell_type": "code",
   "execution_count": 30,
   "metadata": {
    "collapsed": false
   },
   "outputs": [
    {
     "data": {
      "text/plain": [
       "array([0, 0, 0, 0, 0, 0, 0, 0, 0, 0, 0, 0, 0, 0, 0, 0, 0, 0, 0, 0, 0, 0, 0,\n",
       "       0, 0, 0, 0, 0, 0, 0, 0, 0, 0, 0, 0, 0, 0, 0, 0, 0, 0, 0, 0, 0, 0, 0,\n",
       "       0, 0, 0, 0, 1, 1, 1, 1, 1, 1, 1, 1, 1, 1, 1, 1, 1, 1, 1, 1, 1, 1, 1,\n",
       "       1, 1, 1, 1, 1, 1, 1, 1, 1, 1, 1, 1, 1, 1, 1, 1, 1, 1, 1, 1, 1, 1, 1,\n",
       "       1, 1, 1, 1, 1, 1, 1, 1, 2, 2, 2, 2, 2, 2, 2, 2, 2, 2, 2, 2, 2, 2, 2,\n",
       "       2, 2, 2, 2, 2, 2, 2, 2, 2, 2, 2, 2, 2, 2, 2, 2, 2, 2, 2, 2, 2, 2, 2,\n",
       "       2, 2, 2, 2, 2, 2, 2, 2, 2, 2, 2, 2])"
      ]
     },
     "execution_count": 30,
     "metadata": {},
     "output_type": "execute_result"
    }
   ],
   "source": [
    "y"
   ]
  },
  {
   "cell_type": "markdown",
   "metadata": {},
   "source": [
    "Let's construct and fit our scikit-learn classifier, which should follow the by-now-familiar workflow of construct, fit, predict that we saw with k-nearest neighbors and linear regression:"
   ]
  },
  {
   "cell_type": "code",
   "execution_count": 31,
   "metadata": {
    "collapsed": false,
    "scrolled": true
   },
   "outputs": [],
   "source": [
    "# Construct a logistic regression.  The parameter 'C' tells Python how much regularization to do when fitting the model\n",
    "# We'll get to regularization next week, but basically when C is large, we're doing standard logistic regression.\n",
    "logit = LogisticRegression(C=1e5)"
   ]
  },
  {
   "cell_type": "code",
   "execution_count": 34,
   "metadata": {
    "collapsed": false,
    "scrolled": true
   },
   "outputs": [
    {
     "data": {
      "text/plain": [
       "LogisticRegression(C=100000.0, class_weight=None, dual=False,\n",
       "          fit_intercept=True, intercept_scaling=1, max_iter=100,\n",
       "          multi_class='ovr', n_jobs=1, penalty='l2', random_state=None,\n",
       "          solver='liblinear', tol=0.0001, verbose=0, warm_start=False)"
      ]
     },
     "execution_count": 34,
     "metadata": {},
     "output_type": "execute_result"
    }
   ],
   "source": [
    "logit.fit(X, y)"
   ]
  },
  {
   "cell_type": "markdown",
   "metadata": {},
   "source": [
    "Notice the second argument in the output above, ```class_weight```.  This argument lets you penalize misclassification differently based on the class.  For instance, if false negatives are very important (cases when $y_{i}=1$ but $\\hat{y}_{i}=0$), then you can more heavily penalize them."
   ]
  },
  {
   "cell_type": "markdown",
   "metadata": {},
   "source": [
    "Next, let's make predictions on our dataset.  In classification, there are usually two ways to predict -predict the probability of an observation being in each class, or actually assign an observation to a single class."
   ]
  },
  {
   "cell_type": "code",
   "execution_count": 36,
   "metadata": {
    "collapsed": false,
    "scrolled": true
   },
   "outputs": [
    {
     "data": {
      "text/plain": [
       "array([0, 0, 0, 0, 0, 0, 0, 0, 0, 0, 0, 0, 0, 0, 0, 0, 0, 0, 0, 0, 0, 0, 0,\n",
       "       0, 0, 0, 0, 0, 0, 0, 0, 0, 0, 0, 0, 0, 0, 0, 0, 0, 0, 0, 0, 0, 0, 0,\n",
       "       0, 0, 0, 0, 2, 2, 2, 1, 2, 1, 2, 1, 2, 1, 1, 1, 1, 1, 1, 2, 1, 1, 1,\n",
       "       1, 2, 1, 1, 1, 2, 2, 2, 2, 1, 1, 1, 1, 1, 1, 1, 2, 2, 1, 1, 1, 1, 2,\n",
       "       1, 1, 1, 1, 1, 2, 1, 1, 2, 1, 2, 2, 2, 2, 1, 2, 2, 2, 2, 2, 2, 1, 1,\n",
       "       2, 2, 2, 2, 1, 2, 1, 2, 1, 2, 2, 1, 2, 2, 2, 2, 2, 2, 2, 1, 2, 2, 2,\n",
       "       1, 2, 2, 2, 1, 2, 2, 2, 1, 2, 2, 1])"
      ]
     },
     "execution_count": 36,
     "metadata": {},
     "output_type": "execute_result"
    }
   ],
   "source": [
    "# First, using the .predict() call we get back predicted class assignments\n",
    "training_preds = logit.predict(X)\n",
    "training_preds"
   ]
  },
  {
   "cell_type": "code",
   "execution_count": 37,
   "metadata": {
    "collapsed": false,
    "scrolled": false
   },
   "outputs": [
    {
     "data": {
      "text/plain": [
       "array([[  9.05823905e-01,   6.81672013e-02,   2.60088939e-02],\n",
       "       [  7.64631786e-01,   2.16376590e-01,   1.89916235e-02],\n",
       "       [  8.46908157e-01,   1.42190177e-01,   1.09016662e-02],\n",
       "       [  8.15654921e-01,   1.75608861e-01,   8.73621791e-03],\n",
       "       [  9.29624966e-01,   5.11184180e-02,   1.92566160e-02],\n",
       "       [  9.35726243e-01,   2.14566456e-02,   4.28171113e-02],\n",
       "       [  9.06375214e-01,   8.58410376e-02,   7.78374790e-03],\n",
       "       [  8.90004223e-01,   8.86750246e-02,   2.13207520e-02],\n",
       "       [  7.44055159e-01,   2.50433077e-01,   5.51176369e-03],\n",
       "       [  8.02826805e-01,   1.78629207e-01,   1.85439881e-02],\n",
       "       [  9.12881392e-01,   3.90028926e-02,   4.81157159e-02],\n",
       "       [  8.99673219e-01,   8.73972775e-02,   1.29295031e-02],\n",
       "       [  7.69594524e-01,   2.15588498e-01,   1.48169774e-02],\n",
       "       [  7.86468274e-01,   2.09354239e-01,   4.17748690e-03],\n",
       "       [  8.85195466e-01,   1.56532847e-02,   9.91512491e-02],\n",
       "       [  9.32634691e-01,   4.55482910e-03,   6.28104799e-02],\n",
       "       [  9.35726243e-01,   2.14566456e-02,   4.28171113e-02],\n",
       "       [  9.05823905e-01,   6.81672013e-02,   2.60088939e-02],\n",
       "       [  8.81775462e-01,   2.88045719e-02,   8.94199658e-02],\n",
       "       [  9.49486589e-01,   2.85752663e-02,   2.19381451e-02],\n",
       "       [  8.54552240e-01,   8.97543407e-02,   5.56934189e-02],\n",
       "       [  9.38192573e-01,   3.84987122e-02,   2.33087152e-02],\n",
       "       [  9.43795525e-01,   4.92109497e-02,   6.99352520e-03],\n",
       "       [  8.56761685e-01,   1.14824908e-01,   2.84134063e-02],\n",
       "       [  8.99673219e-01,   8.73972775e-02,   1.29295031e-02],\n",
       "       [  7.58705901e-01,   2.17008582e-01,   2.42855166e-02],\n",
       "       [  8.90004223e-01,   8.86750246e-02,   2.13207520e-02],\n",
       "       [  8.98331697e-01,   6.84864517e-02,   3.31818511e-02],\n",
       "       [  8.75765839e-01,   8.94880130e-02,   3.47461479e-02],\n",
       "       [  8.46908157e-01,   1.42190177e-01,   1.09016662e-02],\n",
       "       [  8.07768520e-01,   1.77773939e-01,   1.44575408e-02],\n",
       "       [  8.54552240e-01,   8.97543407e-02,   5.56934189e-02],\n",
       "       [  9.65419251e-01,   1.14464175e-02,   2.31343318e-02],\n",
       "       [  9.46602696e-01,   8.51320169e-03,   4.48841019e-02],\n",
       "       [  8.02826805e-01,   1.78629207e-01,   1.85439881e-02],\n",
       "       [  8.32257392e-01,   1.44697291e-01,   2.30453165e-02],\n",
       "       [  8.64274530e-01,   6.87165294e-02,   6.70089405e-02],\n",
       "       [  8.02826805e-01,   1.78629207e-01,   1.85439881e-02],\n",
       "       [  7.83804870e-01,   2.10802074e-01,   5.39305589e-03],\n",
       "       [  8.83578139e-01,   8.91540136e-02,   2.72678469e-02],\n",
       "       [  9.11942320e-01,   6.77418370e-02,   2.03158428e-02],\n",
       "       [  5.48424664e-01,   4.43106994e-01,   8.46834185e-03],\n",
       "       [  8.56145337e-01,   1.38772958e-01,   5.08170440e-03],\n",
       "       [  9.11942320e-01,   6.77418370e-02,   2.03158428e-02],\n",
       "       [  9.49486589e-01,   2.85752663e-02,   2.19381451e-02],\n",
       "       [  7.69594524e-01,   2.15588498e-01,   1.48169774e-02],\n",
       "       [  9.49486589e-01,   2.85752663e-02,   2.19381451e-02],\n",
       "       [  8.50418487e-01,   1.41119103e-01,   8.46240963e-03],\n",
       "       [  9.23125527e-01,   3.89138100e-02,   3.79606633e-02],\n",
       "       [  8.63440513e-01,   1.14319744e-01,   2.22397430e-02],\n",
       "       [  8.72446141e-22,   2.06253776e-01,   7.93746224e-01],\n",
       "       [  1.20934054e-13,   2.81057482e-01,   7.18942518e-01],\n",
       "       [  1.15300958e-21,   2.52869938e-01,   7.47130062e-01],\n",
       "       [  1.42866352e-12,   8.25492553e-01,   1.74507447e-01],\n",
       "       [  5.89709250e-20,   4.24870776e-01,   5.75129224e-01],\n",
       "       [  4.50765015e-09,   7.04165933e-01,   2.95834062e-01],\n",
       "       [  4.96959832e-11,   2.61017276e-01,   7.38982724e-01],\n",
       "       [  2.69053427e-03,   9.47686199e-01,   4.96232672e-02],\n",
       "       [  4.47639838e-20,   3.69771096e-01,   6.30228904e-01],\n",
       "       [  1.41418505e-03,   8.87461330e-01,   1.11124485e-01],\n",
       "       [  1.63611250e-09,   9.33261505e-01,   6.67384936e-02],\n",
       "       [  2.78261580e-09,   5.49481304e-01,   4.50518694e-01],\n",
       "       [  1.52052633e-20,   6.57200887e-01,   3.42799113e-01],\n",
       "       [  2.83933702e-13,   5.04830477e-01,   4.95169523e-01],\n",
       "       [  1.88638798e-06,   7.21065096e-01,   2.78933018e-01],\n",
       "       [  5.78618140e-19,   2.72309750e-01,   7.27690250e-01],\n",
       "       [  3.51070102e-05,   6.90184309e-01,   3.09780583e-01],\n",
       "       [  1.10229617e-11,   6.84441718e-01,   3.15558282e-01],\n",
       "       [  3.02272560e-23,   5.98870805e-01,   4.01129195e-01],\n",
       "       [  1.84558320e-11,   7.86340742e-01,   2.13659258e-01],\n",
       "       [  9.27201624e-07,   4.57288512e-01,   5.42710561e-01],\n",
       "       [  1.60661034e-14,   5.39203926e-01,   4.60796074e-01],\n",
       "       [  6.11904144e-21,   5.46353327e-01,   4.53646673e-01],\n",
       "       [  1.60661034e-14,   5.39203926e-01,   4.60796074e-01],\n",
       "       [  2.30781136e-17,   4.10616104e-01,   5.89383896e-01],\n",
       "       [  7.66684770e-19,   3.29091849e-01,   6.70908151e-01],\n",
       "       [  5.29672579e-24,   3.80394515e-01,   6.19605485e-01],\n",
       "       [  3.39743786e-20,   3.14530076e-01,   6.85469924e-01],\n",
       "       [  6.60137150e-12,   5.44610769e-01,   4.55389231e-01],\n",
       "       [  1.42309095e-11,   7.40170024e-01,   2.59829976e-01],\n",
       "       [  2.40955232e-11,   8.24053957e-01,   1.75946043e-01],\n",
       "       [  2.40955232e-11,   8.24053957e-01,   1.75946043e-01],\n",
       "       [  1.10229617e-11,   6.84441718e-01,   3.15558282e-01],\n",
       "       [  2.10446283e-14,   6.04311053e-01,   3.95688947e-01],\n",
       "       [  1.79354147e-02,   7.62565871e-01,   2.19498715e-01],\n",
       "       [  1.24863700e-05,   3.12007700e-01,   6.87979814e-01],\n",
       "       [  5.78618140e-19,   2.72309750e-01,   7.27690250e-01],\n",
       "       [  2.21823877e-23,   5.68910927e-01,   4.31089073e-01],\n",
       "       [  3.51070102e-05,   6.90184309e-01,   3.09780583e-01],\n",
       "       [  4.12997927e-10,   8.19852479e-01,   1.80147520e-01],\n",
       "       [  7.20885062e-09,   8.12294073e-01,   1.87705920e-01],\n",
       "       [  5.05527210e-12,   4.64632073e-01,   5.35367927e-01],\n",
       "       [  6.27749695e-13,   7.01424111e-01,   2.98575889e-01],\n",
       "       [  7.33159320e-06,   9.37593390e-01,   6.23992788e-02],\n",
       "       [  5.69236336e-09,   7.64125371e-01,   2.35874623e-01],\n",
       "       [  1.51678040e-06,   6.43404602e-01,   3.56593881e-01],\n",
       "       [  8.21751509e-08,   6.77081726e-01,   3.22918191e-01],\n",
       "       [  1.22391545e-14,   4.68960435e-01,   5.31039565e-01],\n",
       "       [  9.83269276e-05,   9.19490903e-01,   8.04107700e-02],\n",
       "       [  4.50765015e-09,   7.04165933e-01,   2.95834062e-01],\n",
       "       [  4.96959832e-11,   2.61017276e-01,   7.38982724e-01],\n",
       "       [  1.10229617e-11,   6.84441718e-01,   3.15558282e-01],\n",
       "       [  1.41207875e-25,   2.82760602e-01,   7.17239398e-01],\n",
       "       [  5.29862838e-16,   4.37505938e-01,   5.62494062e-01],\n",
       "       [  1.74519274e-17,   3.47307593e-01,   6.52692407e-01],\n",
       "       [  2.94210680e-32,   2.74531043e-01,   7.25468957e-01],\n",
       "       [  4.33321990e-02,   9.07896923e-01,   4.87708776e-02],\n",
       "       [  1.77959112e-29,   3.16490053e-01,   6.83509947e-01],\n",
       "       [  2.49807853e-26,   4.72571286e-01,   5.27428714e-01],\n",
       "       [  1.31170531e-19,   7.81040222e-02,   9.21895978e-01],\n",
       "       [  5.18426688e-15,   2.60338725e-01,   7.39661275e-01],\n",
       "       [  7.78730076e-20,   4.77984800e-01,   5.22015200e-01],\n",
       "       [  1.51803800e-21,   3.03099024e-01,   6.96900976e-01],\n",
       "       [  8.20655756e-13,   7.50427933e-01,   2.49572067e-01],\n",
       "       [  1.96667857e-10,   6.61484294e-01,   3.38515706e-01],\n",
       "       [  1.20934054e-13,   2.81057482e-01,   7.18942518e-01],\n",
       "       [  1.74519274e-17,   3.47307593e-01,   6.52692407e-01],\n",
       "       [  6.86592081e-24,   4.29391007e-02,   9.57060899e-01],\n",
       "       [  1.80977068e-38,   4.09142590e-01,   5.90857410e-01],\n",
       "       [  1.52052633e-20,   6.57200887e-01,   3.42799113e-01],\n",
       "       [  1.93902883e-20,   2.12184620e-01,   7.87815380e-01],\n",
       "       [  1.02761402e-07,   7.45542262e-01,   2.54457635e-01],\n",
       "       [  4.93494528e-36,   3.50087883e-01,   6.49912117e-01],\n",
       "       [  1.76431563e-18,   5.03684018e-01,   4.96315982e-01],\n",
       "       [  1.66173494e-16,   1.90749933e-01,   8.09250067e-01],\n",
       "       [  1.80239853e-24,   1.98855452e-01,   8.01144548e-01],\n",
       "       [  6.97994415e-16,   5.04278647e-01,   4.95721353e-01],\n",
       "       [  5.05527210e-12,   4.64632073e-01,   5.35367927e-01],\n",
       "       [  1.33551699e-18,   4.47050183e-01,   5.52949817e-01],\n",
       "       [  6.46809022e-27,   2.79286483e-01,   7.20713517e-01],\n",
       "       [  4.93239346e-32,   3.51497540e-01,   6.48502460e-01],\n",
       "       [  1.47501942e-26,   4.32647066e-02,   9.56735293e-01],\n",
       "       [  1.33551699e-18,   4.47050183e-01,   5.52949817e-01],\n",
       "       [  3.04465797e-17,   4.73491230e-01,   5.26508770e-01],\n",
       "       [  5.31861649e-17,   5.89057807e-01,   4.10942193e-01],\n",
       "       [  1.36586407e-33,   2.74761475e-01,   7.25238525e-01],\n",
       "       [  8.62336949e-10,   2.18205082e-01,   7.81794917e-01],\n",
       "       [  6.96657826e-15,   3.25817855e-01,   6.74182145e-01],\n",
       "       [  1.18608184e-10,   5.05307868e-01,   4.94692132e-01],\n",
       "       [  1.15300958e-21,   2.52869938e-01,   7.47130062e-01],\n",
       "       [  5.78618140e-19,   2.72309750e-01,   7.27690250e-01],\n",
       "       [  1.15300958e-21,   2.52869938e-01,   7.47130062e-01],\n",
       "       [  1.10229617e-11,   6.84441718e-01,   3.15558282e-01],\n",
       "       [  4.34524375e-19,   2.20087641e-01,   7.79912359e-01],\n",
       "       [  1.66173494e-16,   1.90749933e-01,   8.09250067e-01],\n",
       "       [  3.39743786e-20,   3.14530076e-01,   6.85469924e-01],\n",
       "       [  6.11904144e-21,   5.46353327e-01,   4.53646673e-01],\n",
       "       [  1.74519274e-17,   3.47307593e-01,   6.52692407e-01],\n",
       "       [  2.08841089e-08,   2.44263730e-01,   7.55736249e-01],\n",
       "       [  2.78261580e-09,   5.49481304e-01,   4.50518694e-01]])"
      ]
     },
     "execution_count": 37,
     "metadata": {},
     "output_type": "execute_result"
    }
   ],
   "source": [
    "# Second, using the predict_proba() call we get back the probability that each observation is a 0, 1, or 2\n",
    "training_probs = logit.predict_proba(X)\n",
    "training_probs"
   ]
  },
  {
   "cell_type": "code",
   "execution_count": 39,
   "metadata": {
    "collapsed": false,
    "scrolled": true
   },
   "outputs": [
    {
     "data": {
      "text/plain": [
       "(array([ 50,  51,  52,  54,  56,  58,  65,  70,  74,  75,  76,  77,  85,\n",
       "         86,  91,  97, 101, 106, 113, 114, 119, 121, 123, 126, 134, 138,\n",
       "        142, 146, 149]),)"
      ]
     },
     "execution_count": 39,
     "metadata": {},
     "output_type": "execute_result"
    }
   ],
   "source": [
    "# If we want to see where we made mistakes, we can do that by finding obserations where\n",
    "# our predictions don't match the true labels\n",
    "np.where(training_preds!=y)"
   ]
  },
  {
   "cell_type": "code",
   "execution_count": 41,
   "metadata": {
    "collapsed": false,
    "scrolled": true
   },
   "outputs": [
    {
     "name": "stdout",
     "output_type": "stream",
     "text": [
      "1\n",
      "[  8.72446141e-22   2.06253776e-01   7.93746224e-01]\n"
     ]
    }
   ],
   "source": [
    "# Here we look at one of the mistakes (the first one in the list above) in more detail.\n",
    "num = 50\n",
    "print y[num]\n",
    "print training_probs[num]"
   ]
  },
  {
   "cell_type": "markdown",
   "metadata": {},
   "source": [
    "### Evaluating the Classifier Performance"
   ]
  },
  {
   "cell_type": "markdown",
   "metadata": {},
   "source": [
    "At the very top, we imported several functions from sklearn.metrics ([http://scikit-learn.org/stable/modules/classes.html#module-sklearn.metrics](http://scikit-learn.org/stable/modules/classes.html#module-sklearn.metrics)).\n",
    "\n",
    "First, we'll build a confusion matrix.  Note that the confusion matrix setup for the case with two cases readily extends to the case with more than two classes."
   ]
  },
  {
   "cell_type": "code",
   "execution_count": null,
   "metadata": {
    "collapsed": false,
    "scrolled": true
   },
   "outputs": [],
   "source": [
    "?confusion_matrix"
   ]
  },
  {
   "cell_type": "code",
   "execution_count": 46,
   "metadata": {
    "collapsed": false,
    "scrolled": true
   },
   "outputs": [
    {
     "data": {
      "text/plain": [
       "array([[50,  0,  0],\n",
       "       [ 0, 34, 16],\n",
       "       [ 0, 13, 37]])"
      ]
     },
     "execution_count": 46,
     "metadata": {},
     "output_type": "execute_result"
    }
   ],
   "source": [
    "# Gives us what we want, but it's hard to read\n",
    "confusion_matrix(y, training_preds)"
   ]
  },
  {
   "cell_type": "markdown",
   "metadata": {},
   "source": [
    "We can also use the crosstab function in pandas, which has the advantage that it's clear which are rows and which are columns (http://pandas.pydata.org/pandas-docs/version/0.15.1/generated/pandas.crosstab.html):"
   ]
  },
  {
   "cell_type": "code",
   "execution_count": 49,
   "metadata": {
    "collapsed": false,
    "scrolled": true
   },
   "outputs": [
    {
     "data": {
      "text/html": [
       "<div>\n",
       "<table border=\"1\" class=\"dataframe\">\n",
       "  <thead>\n",
       "    <tr style=\"text-align: right;\">\n",
       "      <th>Predicted</th>\n",
       "      <th>0</th>\n",
       "      <th>1</th>\n",
       "      <th>2</th>\n",
       "    </tr>\n",
       "    <tr>\n",
       "      <th>True</th>\n",
       "      <th></th>\n",
       "      <th></th>\n",
       "      <th></th>\n",
       "    </tr>\n",
       "  </thead>\n",
       "  <tbody>\n",
       "    <tr>\n",
       "      <th>0</th>\n",
       "      <td>50</td>\n",
       "      <td>0</td>\n",
       "      <td>0</td>\n",
       "    </tr>\n",
       "    <tr>\n",
       "      <th>1</th>\n",
       "      <td>0</td>\n",
       "      <td>34</td>\n",
       "      <td>16</td>\n",
       "    </tr>\n",
       "    <tr>\n",
       "      <th>2</th>\n",
       "      <td>0</td>\n",
       "      <td>13</td>\n",
       "      <td>37</td>\n",
       "    </tr>\n",
       "  </tbody>\n",
       "</table>\n",
       "</div>"
      ],
      "text/plain": [
       "Predicted   0   1   2\n",
       "True                 \n",
       "0          50   0   0\n",
       "1           0  34  16\n",
       "2           0  13  37"
      ]
     },
     "execution_count": 49,
     "metadata": {},
     "output_type": "execute_result"
    }
   ],
   "source": [
    "pd.crosstab(index=y, columns=training_preds, rownames=['True'], colnames=['Predicted'])"
   ]
  },
  {
   "cell_type": "markdown",
   "metadata": {},
   "source": [
    "Based on the confusion matrix, it looks like our model does a good job of predicting the label $0$ ('setosa'), but gets somewhat confused when trying to distinguish labels $1$ and $2$."
   ]
  },
  {
   "cell_type": "markdown",
   "metadata": {},
   "source": [
    "Next, we calculate the accuracy score for our predictions.  This is just the 1-misclassification rate, or the proportion of observations that were *correctly* classified."
   ]
  },
  {
   "cell_type": "code",
   "execution_count": 51,
   "metadata": {
    "collapsed": false,
    "scrolled": true
   },
   "outputs": [
    {
     "name": "stdout",
     "output_type": "stream",
     "text": [
      "0.806666666667\n"
     ]
    }
   ],
   "source": [
    "\n",
    "print accuracy_score(y, training_preds)"
   ]
  },
  {
   "cell_type": "markdown",
   "metadata": {},
   "source": [
    "The `classification_report` function will easily give us some other metrics:"
   ]
  },
  {
   "cell_type": "code",
   "execution_count": 54,
   "metadata": {
    "collapsed": false,
    "scrolled": true
   },
   "outputs": [
    {
     "name": "stdout",
     "output_type": "stream",
     "text": [
      "             precision    recall  f1-score   support\n",
      "\n",
      "    class 0       1.00      1.00      1.00        50\n",
      "    class 1       0.72      0.68      0.70        50\n",
      "    class 2       0.70      0.74      0.72        50\n",
      "\n",
      "avg / total       0.81      0.81      0.81       150\n",
      "\n"
     ]
    }
   ],
   "source": [
    "print classification_report(y, training_preds, labels=[0,1,2], target_names=['class 0', 'class 1', 'class 2'])"
   ]
  },
  {
   "cell_type": "markdown",
   "metadata": {},
   "source": [
    "In lecture, we described precision and recall in terms of true positives, false positives, etc., in the binary classification case.  Even though we're now dealing with more than two classes, we can still these metrics for each class.  For example, recall (# True Positive / # Actual Positives) for class 0 is just the number of observations assigned to class 0 that were actually in class 0 divided by the number of actual observations in class 0.  The same idea applies when calculating precision for each class.  The *f1-score*, which applies even in the binary class setting, is just a combination of precision and recall ($2\\cdot \\text{harmonic mean}$) with the best possible value of 1 and worst possible value 0."
   ]
  },
  {
   "cell_type": "markdown",
   "metadata": {},
   "source": [
    "To make an ROC curve, let's simplify things and train a binary version rather than a multi-class version of the classifier.  We'll create a new set of binary responses equal to 1 when the origial class is 2, and 0 otherwise."
   ]
  },
  {
   "cell_type": "code",
   "execution_count": 57,
   "metadata": {
    "collapsed": false,
    "scrolled": true
   },
   "outputs": [
    {
     "data": {
      "text/plain": [
       "array([ 0.02871297,  0.02483682,  0.01287231,  0.01071068,  0.02071439,\n",
       "        0.04575816,  0.00858778,  0.02395579,  0.00740774,  0.02309832,\n",
       "        0.05270749,  0.01437133,  0.01925294,  0.0053117 ,  0.11200697,\n",
       "        0.06734736,  0.04575816,  0.02871297,  0.10137136,  0.02310527,\n",
       "        0.06502151,  0.02484428,  0.00741   ,  0.0331636 ,  0.01437133,\n",
       "        0.03198735,  0.02395579,  0.03693718,  0.03967496,  0.01287231,\n",
       "        0.01789812,  0.06502151,  0.02396299,  0.04741599,  0.02309832,\n",
       "        0.02769006,  0.07728785,  0.02309832,  0.00688061,  0.0308607 ,\n",
       "        0.02227755,  0.01490073,  0.00593556,  0.02227755,  0.02310527,\n",
       "        0.01925294,  0.02310527,  0.00995088,  0.04112189,  0.02575712,\n",
       "        0.83873714,  0.52164216,  0.81196618,  0.16972174,  0.65574497,\n",
       "        0.19176287,  0.43829153,  0.03826557,  0.69644247,  0.06500279,\n",
       "        0.06498407,  0.25606043,  0.44734927,  0.3842727 ,  0.14513026,\n",
       "        0.71952174,  0.1361472 ,  0.24901464,  0.57672897,  0.18604385,\n",
       "        0.22877468,  0.40200848,  0.58581417,  0.40200848,  0.57680416,\n",
       "        0.68049895,  0.80620055,  0.73427835,  0.3247944 ,  0.21586985,\n",
       "        0.15950055,  0.15950055,  0.24901464,  0.35821311,  0.08561337,\n",
       "        0.24907224,  0.71952174,  0.62137407,  0.1361472 ,  0.14978386,\n",
       "        0.14056012,  0.36683938,  0.26317598,  0.05267674,  0.16456859,\n",
       "        0.16976515,  0.18050286,  0.44742542,  0.05853624,  0.19176287,\n",
       "        0.43829153,  0.24901464,  0.8867466 ,  0.51232115,  0.62144653,\n",
       "        0.9664242 ,  0.03562144,  0.93419726,  0.80030161,  0.86671432,\n",
       "        0.5858889 ,  0.61262609,  0.78190662,  0.22872034,  0.23537189,\n",
       "        0.52164216,  0.62144653,  0.95370779,  0.98049838,  0.44734927,\n",
       "        0.80035083,  0.15459995,  0.97744239,  0.54933675,  0.6885596 ,\n",
       "        0.8974869 ,  0.4658706 ,  0.36683938,  0.59484136,  0.91038171,\n",
       "        0.95201752,  0.97197219,  0.59484136,  0.53087141,  0.4382157 ,\n",
       "        0.97392025,  0.4200795 ,  0.5401561 ,  0.30870657,  0.81196618,\n",
       "        0.71952174,  0.81196618,  0.24901464,  0.75549093,  0.6885596 ,\n",
       "        0.73427835,  0.58581417,  0.62144653,  0.35828393,  0.25606043])"
      ]
     },
     "execution_count": 57,
     "metadata": {},
     "output_type": "execute_result"
    }
   ],
   "source": [
    "y_bin = (y==2).astype(\"int\")\n",
    "\n",
    "logit_binary = LogisticRegression(C=1e5)\n",
    "logit_binary.fit(X, y_bin)\n",
    "\n",
    "bin_preds = logit_binary.predict_proba(X)[:, 1] # In binary response case, probability of 0 is 1 - probability of 1.\n",
    "bin_preds"
   ]
  },
  {
   "cell_type": "markdown",
   "metadata": {},
   "source": [
    "The `roc_curve` function returns three arrays.  One for the false positive rate, one for the true positive rate, and one for the probability thresholds that correspond to each point.  We don't plot the thresholds directly in an ROC curve, but it's by tracing out the true positive and false positive rates as we range over the threhold that we obtain the curve."
   ]
  },
  {
   "cell_type": "code",
   "execution_count": 60,
   "metadata": {
    "collapsed": false,
    "scrolled": true
   },
   "outputs": [],
   "source": [
    "fpr, tpr, thresholds = roc_curve(y_bin, bin_preds)"
   ]
  },
  {
   "cell_type": "code",
   "execution_count": 62,
   "metadata": {
    "collapsed": false,
    "scrolled": true
   },
   "outputs": [
    {
     "data": {
      "text/plain": [
       "array([ 0.98049838,  0.86671432,  0.83873714,  0.81196618,  0.80620055,\n",
       "        0.75549093,  0.73427835,  0.71952174,  0.69644247,  0.6885596 ,\n",
       "        0.65574497,  0.62144653,  0.62137407,  0.61262609,  0.59484136,\n",
       "        0.5858889 ,  0.58581417,  0.57672897,  0.53087141,  0.52164216,\n",
       "        0.4658706 ,  0.44742542,  0.43829153,  0.4200795 ,  0.40200848,\n",
       "        0.3842727 ,  0.36683938,  0.35828393,  0.3247944 ,  0.30870657,\n",
       "        0.26317598,  0.25606043,  0.24907224,  0.24901464,  0.23537189,\n",
       "        0.22877468,  0.22872034,  0.21586985,  0.19176287,  0.16456859,\n",
       "        0.15950055,  0.15459995,  0.14056012,  0.1361472 ,  0.06734736,\n",
       "        0.06502151,  0.04741599,  0.04575816,  0.03693718,  0.03562144,\n",
       "        0.0308607 ,  0.02871297,  0.02396299,  0.02395579,  0.02309832,\n",
       "        0.02227755,  0.02071439,  0.01925294,  0.01490073,  0.01287231,\n",
       "        0.0053117 ])"
      ]
     },
     "execution_count": 62,
     "metadata": {},
     "output_type": "execute_result"
    }
   ],
   "source": [
    "thresholds"
   ]
  },
  {
   "cell_type": "markdown",
   "metadata": {},
   "source": [
    "Now, we'll plot the ROC curve, but also the baseline 'random guessing' diagonal for reference."
   ]
  },
  {
   "cell_type": "code",
   "execution_count": 64,
   "metadata": {
    "collapsed": false,
    "scrolled": true
   },
   "outputs": [
    {
     "data": {
      "image/png": "[encoded data removed]",
      "text/plain": [
       "<matplotlib.figure.Figure at 0x1174153d0>"
      ]
     },
     "metadata": {},
     "output_type": "display_data"
    }
   ],
   "source": [
    "fpr_rand = tpr_rand = np.linspace(0, 1, 10) # Construct the random baseline\n",
    "\n",
    "plt.plot(fpr, tpr) # Add the ROC curve to our plot\n",
    "plt.plot(fpr_rand, tpr_rand, linestyle='--') # Add the random baseline to our plot\n",
    "plt.show() # Show the plot"
   ]
  },
  {
   "cell_type": "markdown",
   "metadata": {},
   "source": [
    "And we can easily calculate the AUC:"
   ]
  },
  {
   "cell_type": "code",
   "execution_count": 66,
   "metadata": {
    "collapsed": false,
    "scrolled": true
   },
   "outputs": [
    {
     "data": {
      "text/plain": [
       "0.88730000000000009"
      ]
     },
     "execution_count": 66,
     "metadata": {},
     "output_type": "execute_result"
    }
   ],
   "source": [
    "roc_auc_score(y_bin, bin_preds)"
   ]
  },
  {
   "cell_type": "markdown",
   "metadata": {},
   "source": [
    "We can also plot the **lift curve**.  The lift curve tries to answer the following question: if you rank ordered all of your observations in decreasing order of their probability of being a positive, what percent of the overall number of observations would you need to target in order to have reached a specified percent of the *actual* positives in the population?"
   ]
  },
  {
   "cell_type": "markdown",
   "metadata": {},
   "source": [
    "A natural case is in marketing, where you often want to launch a direct marketing campaign to acquire new customers.  You have a limited budget, so you can't reach everyone.  Therefore, you cut your target by taking the top $5\\%$, $10\\%$, etc., of individuals based on their probability of accepting your offer. The idea is that, if the model is good, then that target should contain a sizable fraction of the consumers you actually have a chance of converting."
   ]
  },
  {
   "cell_type": "markdown",
   "metadata": {},
   "source": [
    "Unforunately, we have to make a lift curve by hand -it's not built into sklearn."
   ]
  },
  {
   "cell_type": "code",
   "execution_count": 97,
   "metadata": {
    "collapsed": true,
    "scrolled": true
   },
   "outputs": [],
   "source": [
    "# First, order the scores from highest to lowest.\n",
    "order = np.argsort(bin_preds)\n",
    "# this notation means go from beginning to end by -1, which is reverse order\n",
    "decreasing_order = order[::-1]"
   ]
  },
  {
   "cell_type": "code",
   "execution_count": 98,
   "metadata": {
    "collapsed": false,
    "scrolled": true
   },
   "outputs": [
    {
     "data": {
      "text/plain": [
       "array([ 0.98049838,  0.97744239,  0.97392025,  0.97197219,  0.9664242 ,\n",
       "        0.95370779,  0.95201752,  0.93419726,  0.91038171,  0.8974869 ,\n",
       "        0.8867466 ,  0.86671432,  0.83873714,  0.81196618,  0.81196618,\n",
       "        0.81196618,  0.80620055,  0.80035083,  0.80030161,  0.78190662,\n",
       "        0.75549093,  0.73427835,  0.73427835,  0.71952174,  0.71952174,\n",
       "        0.71952174,  0.69644247,  0.6885596 ,  0.6885596 ,  0.68049895,\n",
       "        0.65574497,  0.62144653,  0.62144653,  0.62144653,  0.62137407,\n",
       "        0.61262609,  0.59484136,  0.59484136,  0.5858889 ,  0.58581417,\n",
       "        0.58581417,  0.57680416,  0.57672897,  0.54933675,  0.5401561 ,\n",
       "        0.53087141,  0.52164216,  0.52164216,  0.51232115,  0.4658706 ,\n",
       "        0.44742542,  0.44734927,  0.44734927,  0.43829153,  0.43829153,\n",
       "        0.4382157 ,  0.4200795 ,  0.40200848,  0.40200848,  0.3842727 ,\n",
       "        0.36683938,  0.36683938,  0.35828393,  0.35821311,  0.3247944 ,\n",
       "        0.30870657,  0.26317598,  0.25606043,  0.25606043,  0.24907224,\n",
       "        0.24901464,  0.24901464,  0.24901464,  0.24901464,  0.23537189,\n",
       "        0.22877468,  0.22872034,  0.21586985,  0.19176287,  0.19176287,\n",
       "        0.18604385,  0.18050286,  0.16976515,  0.16972174,  0.16456859,\n",
       "        0.15950055,  0.15950055,  0.15459995,  0.14978386,  0.14513026,\n",
       "        0.14056012,  0.1361472 ,  0.1361472 ,  0.11200697,  0.10137136,\n",
       "        0.08561337,  0.07728785,  0.06734736,  0.06502151,  0.06502151,\n",
       "        0.06500279,  0.06498407,  0.05853624,  0.05270749,  0.05267674,\n",
       "        0.04741599,  0.04575816,  0.04575816,  0.04112189,  0.03967496,\n",
       "        0.03826557,  0.03693718,  0.03562144,  0.0331636 ,  0.03198735,\n",
       "        0.0308607 ,  0.02871297,  0.02871297,  0.02769006,  0.02575712,\n",
       "        0.02484428,  0.02483682,  0.02396299,  0.02395579,  0.02395579,\n",
       "        0.02310527,  0.02310527,  0.02310527,  0.02309832,  0.02309832,\n",
       "        0.02309832,  0.02227755,  0.02227755,  0.02071439,  0.01925294,\n",
       "        0.01925294,  0.01789812,  0.01490073,  0.01437133,  0.01437133,\n",
       "        0.01287231,  0.01287231,  0.01071068,  0.00995088,  0.00858778,\n",
       "        0.00741   ,  0.00740774,  0.00688061,  0.00593556,  0.0053117 ])"
      ]
     },
     "execution_count": 98,
     "metadata": {},
     "output_type": "execute_result"
    }
   ],
   "source": [
    "bin_preds[decreasing_order]"
   ]
  },
  {
   "cell_type": "code",
   "execution_count": 101,
   "metadata": {
    "collapsed": false,
    "scrolled": true
   },
   "outputs": [
    {
     "name": "stdout",
     "output_type": "stream",
     "text": [
      "We have 50 total 1's out of 150 training examples.\n"
     ]
    }
   ],
   "source": [
    "# Now we create a loop that mimics the process of cutting a target based on the top 1%, 2%, 3%, ..., 100% of scores.\n",
    "# For each cutoff, we calculate the fraction of actual positives we've identified.\n",
    "\n",
    "# As a benchmark, the random guessing model will only accumlate actual positives in proportion to the actual\n",
    "# fraction of overall observtions that were positives.  For instance, if 20% of the population is actually a 1,\n",
    "# then when you randomly select 10% of the population, you'd expect 20% of that group to be a 1.\n",
    "\n",
    "total_ones = y_bin.sum() # Number of actual positives\n",
    "num_examples = len(y_bin) # Number of observations\n",
    "percent_ones = float(total_ones)/float(num_examples) # Fraction of positives in population\n",
    "print \"We have %s total 1's out of %s training examples.\" % (total_ones, num_examples)\n",
    "\n",
    "percent_targeted = np.linspace(0, 1, 100) # Create a sequence cutoffs (top 1%, top 2%, etc.)\n",
    "\n",
    "rands, hits = [], []\n",
    "for p in percent_targeted: # Loop over each cutoff point\n",
    "    \n",
    "    # for random targeting, we just get a constant fraction\n",
    "    rands.append(p)\n",
    "    \n",
    "    # for a real model, we take the p percent highest scorers\n",
    "    # and see how many ones there are\n",
    "    n_ones = y_bin[decreasing_order[:int(p*num_examples)]].sum()\n",
    "    hits.append(float(n_ones)/float(total_ones)) # Fraction of actual positives that we've identified thus far."
   ]
  },
  {
   "cell_type": "code",
   "execution_count": 103,
   "metadata": {
    "collapsed": false,
    "scrolled": true
   },
   "outputs": [
    {
     "data": {
      "text/plain": [
       "<function matplotlib.pyplot.show>"
      ]
     },
     "execution_count": 103,
     "metadata": {},
     "output_type": "execute_result"
    },
    {
     "data": {
      "image/png": "[encoded data removed]",
      "text/plain": [
       "<matplotlib.figure.Figure at 0x117a01f10>"
      ]
     },
     "metadata": {},
     "output_type": "display_data"
    }
   ],
   "source": [
    "plt.plot(percent_targeted, hits)\n",
    "plt.plot(percent_targeted, rands, linestyle='--')\n",
    "plt.xlabel('Percent Targeted')\n",
    "plt.ylabel('Percent of Available Positives Identified')\n",
    "plt.show"
   ]
  },
  {
   "cell_type": "markdown",
   "metadata": {},
   "source": [
    "In this example, if we had used our model to create a target list of customers for acquisition, then we would have identified roughly 40% of conversions by only targeting 20% of the overall population.  In general, the more a lift curve is pulled to the upper left, the better the model.  However, the shape of an optimal lift curve changes depending on the actual fraction of positives in the population, so comparing lift curves across data sets is more difficult than comparing ROC curves."
   ]
  },
  {
   "cell_type": "markdown",
   "metadata": {},
   "source": [
    "## Statsmodels"
   ]
  },
  {
   "cell_type": "markdown",
   "metadata": {},
   "source": [
    "### Using A Formula to Fit to a Pandas Dataframe"
   ]
  },
  {
   "cell_type": "markdown",
   "metadata": {},
   "source": [
    "[http://statsmodels.sourceforge.net/devel/examples/notebooks/generated/glm_formula.html](http://statsmodels.sourceforge.net/devel/examples/notebooks/generated/glm_formula.html)"
   ]
  },
  {
   "cell_type": "code",
   "execution_count": 105,
   "metadata": {
    "collapsed": false,
    "scrolled": true
   },
   "outputs": [],
   "source": [
    "import statsmodels.api as sm\n",
    "import statsmodels.formula.api as smf"
   ]
  },
  {
   "cell_type": "markdown",
   "metadata": {},
   "source": [
    "The Star98 dataset is an educational dataset from California counties.  The column `NABOVE` represents \"the number of 9th graders scoring over the national median value on the mathematics exam.\"  We will create a logistic regression to predict whether or not the percent of 9th graders scoring above the national medial value on the math exam exceeds 50%."
   ]
  },
  {
   "cell_type": "markdown",
   "metadata": {},
   "source": [
    "[http://statsmodels.sourceforge.net/0.6.0/datasets/generated/star98.html](http://statsmodels.sourceforge.net/0.6.0/datasets/generated/star98.html)"
   ]
  },
  {
   "cell_type": "code",
   "execution_count": 117,
   "metadata": {
    "collapsed": false,
    "scrolled": true
   },
   "outputs": [],
   "source": [
    "star98 = sm.datasets.star98.load_pandas().data # Load the data"
   ]
  },
  {
   "cell_type": "code",
   "execution_count": 118,
   "metadata": {
    "collapsed": false,
    "scrolled": true
   },
   "outputs": [
    {
     "data": {
      "text/html": [
       "<div>\n",
       "<table border=\"1\" class=\"dataframe\">\n",
       "  <thead>\n",
       "    <tr style=\"text-align: right;\">\n",
       "      <th></th>\n",
       "      <th>NABOVE</th>\n",
       "      <th>NBELOW</th>\n",
       "      <th>LOWINC</th>\n",
       "      <th>PERASIAN</th>\n",
       "      <th>PERBLACK</th>\n",
       "      <th>PERHISP</th>\n",
       "      <th>PERMINTE</th>\n",
       "      <th>AVYRSEXP</th>\n",
       "      <th>AVSALK</th>\n",
       "      <th>PERSPENK</th>\n",
       "      <th>...</th>\n",
       "      <th>PCTCHRT</th>\n",
       "      <th>PCTYRRND</th>\n",
       "      <th>PERMINTE_AVYRSEXP</th>\n",
       "      <th>PERMINTE_AVSAL</th>\n",
       "      <th>AVYRSEXP_AVSAL</th>\n",
       "      <th>PERSPEN_PTRATIO</th>\n",
       "      <th>PERSPEN_PCTAF</th>\n",
       "      <th>PTRATIO_PCTAF</th>\n",
       "      <th>PERMINTE_AVYRSEXP_AVSAL</th>\n",
       "      <th>PERSPEN_PTRATIO_PCTAF</th>\n",
       "    </tr>\n",
       "  </thead>\n",
       "  <tbody>\n",
       "    <tr>\n",
       "      <th>0</th>\n",
       "      <td>452.0</td>\n",
       "      <td>355.0</td>\n",
       "      <td>34.39730</td>\n",
       "      <td>23.299300</td>\n",
       "      <td>14.235280</td>\n",
       "      <td>11.411120</td>\n",
       "      <td>15.91837</td>\n",
       "      <td>14.70646</td>\n",
       "      <td>59.15732</td>\n",
       "      <td>4.445207</td>\n",
       "      <td>...</td>\n",
       "      <td>0.0</td>\n",
       "      <td>22.222220</td>\n",
       "      <td>234.102872</td>\n",
       "      <td>941.68811</td>\n",
       "      <td>869.9948</td>\n",
       "      <td>96.50656</td>\n",
       "      <td>253.52242</td>\n",
       "      <td>1238.1955</td>\n",
       "      <td>13848.8985</td>\n",
       "      <td>5504.0352</td>\n",
       "    </tr>\n",
       "    <tr>\n",
       "      <th>1</th>\n",
       "      <td>144.0</td>\n",
       "      <td>40.0</td>\n",
       "      <td>17.36507</td>\n",
       "      <td>29.328380</td>\n",
       "      <td>8.234897</td>\n",
       "      <td>9.314884</td>\n",
       "      <td>13.63636</td>\n",
       "      <td>16.08324</td>\n",
       "      <td>59.50397</td>\n",
       "      <td>5.267598</td>\n",
       "      <td>...</td>\n",
       "      <td>0.0</td>\n",
       "      <td>0.000000</td>\n",
       "      <td>219.316851</td>\n",
       "      <td>811.41756</td>\n",
       "      <td>957.0166</td>\n",
       "      <td>107.68435</td>\n",
       "      <td>340.40609</td>\n",
       "      <td>1321.0664</td>\n",
       "      <td>13050.2233</td>\n",
       "      <td>6958.8468</td>\n",
       "    </tr>\n",
       "    <tr>\n",
       "      <th>2</th>\n",
       "      <td>337.0</td>\n",
       "      <td>234.0</td>\n",
       "      <td>32.64324</td>\n",
       "      <td>9.226386</td>\n",
       "      <td>42.406310</td>\n",
       "      <td>13.543720</td>\n",
       "      <td>28.83436</td>\n",
       "      <td>14.59559</td>\n",
       "      <td>60.56992</td>\n",
       "      <td>5.482922</td>\n",
       "      <td>...</td>\n",
       "      <td>0.0</td>\n",
       "      <td>0.000000</td>\n",
       "      <td>420.854496</td>\n",
       "      <td>1746.49488</td>\n",
       "      <td>884.0537</td>\n",
       "      <td>103.92435</td>\n",
       "      <td>295.75929</td>\n",
       "      <td>1022.4252</td>\n",
       "      <td>25491.1232</td>\n",
       "      <td>5605.8777</td>\n",
       "    </tr>\n",
       "    <tr>\n",
       "      <th>3</th>\n",
       "      <td>395.0</td>\n",
       "      <td>178.0</td>\n",
       "      <td>11.90953</td>\n",
       "      <td>13.883090</td>\n",
       "      <td>3.796973</td>\n",
       "      <td>11.443110</td>\n",
       "      <td>11.11111</td>\n",
       "      <td>14.38939</td>\n",
       "      <td>58.33411</td>\n",
       "      <td>4.165093</td>\n",
       "      <td>...</td>\n",
       "      <td>0.0</td>\n",
       "      <td>7.142857</td>\n",
       "      <td>159.882095</td>\n",
       "      <td>648.15671</td>\n",
       "      <td>839.3923</td>\n",
       "      <td>90.11341</td>\n",
       "      <td>204.34375</td>\n",
       "      <td>1061.4545</td>\n",
       "      <td>9326.5797</td>\n",
       "      <td>4421.0568</td>\n",
       "    </tr>\n",
       "    <tr>\n",
       "      <th>4</th>\n",
       "      <td>8.0</td>\n",
       "      <td>57.0</td>\n",
       "      <td>36.88889</td>\n",
       "      <td>12.187500</td>\n",
       "      <td>76.875000</td>\n",
       "      <td>7.604167</td>\n",
       "      <td>43.58974</td>\n",
       "      <td>13.90568</td>\n",
       "      <td>63.15364</td>\n",
       "      <td>4.324902</td>\n",
       "      <td>...</td>\n",
       "      <td>0.0</td>\n",
       "      <td>0.000000</td>\n",
       "      <td>606.144976</td>\n",
       "      <td>2752.85075</td>\n",
       "      <td>878.1943</td>\n",
       "      <td>81.22097</td>\n",
       "      <td>226.54248</td>\n",
       "      <td>983.7059</td>\n",
       "      <td>38280.2616</td>\n",
       "      <td>4254.4314</td>\n",
       "    </tr>\n",
       "  </tbody>\n",
       "</table>\n",
       "<p>5 rows × 22 columns</p>\n",
       "</div>"
      ],
      "text/plain": [
       "   NABOVE  NBELOW    LOWINC   PERASIAN   PERBLACK    PERHISP  PERMINTE  \\\n",
       "0   452.0   355.0  34.39730  23.299300  14.235280  11.411120  15.91837   \n",
       "1   144.0    40.0  17.36507  29.328380   8.234897   9.314884  13.63636   \n",
       "2   337.0   234.0  32.64324   9.226386  42.406310  13.543720  28.83436   \n",
       "3   395.0   178.0  11.90953  13.883090   3.796973  11.443110  11.11111   \n",
       "4     8.0    57.0  36.88889  12.187500  76.875000   7.604167  43.58974   \n",
       "\n",
       "   AVYRSEXP    AVSALK  PERSPENK          ...            PCTCHRT   PCTYRRND  \\\n",
       "0  14.70646  59.15732  4.445207          ...                0.0  22.222220   \n",
       "1  16.08324  59.50397  5.267598          ...                0.0   0.000000   \n",
       "2  14.59559  60.56992  5.482922          ...                0.0   0.000000   \n",
       "3  14.38939  58.33411  4.165093          ...                0.0   7.142857   \n",
       "4  13.90568  63.15364  4.324902          ...                0.0   0.000000   \n",
       "\n",
       "   PERMINTE_AVYRSEXP  PERMINTE_AVSAL  AVYRSEXP_AVSAL  PERSPEN_PTRATIO  \\\n",
       "0         234.102872       941.68811        869.9948         96.50656   \n",
       "1         219.316851       811.41756        957.0166        107.68435   \n",
       "2         420.854496      1746.49488        884.0537        103.92435   \n",
       "3         159.882095       648.15671        839.3923         90.11341   \n",
       "4         606.144976      2752.85075        878.1943         81.22097   \n",
       "\n",
       "   PERSPEN_PCTAF  PTRATIO_PCTAF  PERMINTE_AVYRSEXP_AVSAL  \\\n",
       "0      253.52242      1238.1955               13848.8985   \n",
       "1      340.40609      1321.0664               13050.2233   \n",
       "2      295.75929      1022.4252               25491.1232   \n",
       "3      204.34375      1061.4545                9326.5797   \n",
       "4      226.54248       983.7059               38280.2616   \n",
       "\n",
       "   PERSPEN_PTRATIO_PCTAF  \n",
       "0              5504.0352  \n",
       "1              6958.8468  \n",
       "2              5605.8777  \n",
       "3              4421.0568  \n",
       "4              4254.4314  \n",
       "\n",
       "[5 rows x 22 columns]"
      ]
     },
     "execution_count": 118,
     "metadata": {},
     "output_type": "execute_result"
    }
   ],
   "source": [
    "star98.head() # Preview the data "
   ]
  },
  {
   "cell_type": "code",
   "execution_count": 124,
   "metadata": {
    "collapsed": false,
    "scrolled": true
   },
   "outputs": [
    {
     "data": {
      "text/html": [
       "<div>\n",
       "<table border=\"1\" class=\"dataframe\">\n",
       "  <thead>\n",
       "    <tr style=\"text-align: right;\">\n",
       "      <th></th>\n",
       "      <th>LOWINC</th>\n",
       "      <th>PERASIAN</th>\n",
       "      <th>PERBLACK</th>\n",
       "      <th>PERHISP</th>\n",
       "      <th>PCTCHRT</th>\n",
       "      <th>PCTYRRND</th>\n",
       "      <th>PERMINTE</th>\n",
       "      <th>AVYRSEXP</th>\n",
       "      <th>AVSALK</th>\n",
       "      <th>PERSPENK</th>\n",
       "      <th>PTRATIO</th>\n",
       "      <th>PCTAF</th>\n",
       "      <th>SUCCESS</th>\n",
       "    </tr>\n",
       "  </thead>\n",
       "  <tbody>\n",
       "    <tr>\n",
       "      <th>0</th>\n",
       "      <td>34.39730</td>\n",
       "      <td>23.299300</td>\n",
       "      <td>14.235280</td>\n",
       "      <td>11.411120</td>\n",
       "      <td>0.0</td>\n",
       "      <td>22.222220</td>\n",
       "      <td>15.91837</td>\n",
       "      <td>14.70646</td>\n",
       "      <td>59.15732</td>\n",
       "      <td>4.445207</td>\n",
       "      <td>21.71025</td>\n",
       "      <td>57.03276</td>\n",
       "      <td>1</td>\n",
       "    </tr>\n",
       "    <tr>\n",
       "      <th>1</th>\n",
       "      <td>17.36507</td>\n",
       "      <td>29.328380</td>\n",
       "      <td>8.234897</td>\n",
       "      <td>9.314884</td>\n",
       "      <td>0.0</td>\n",
       "      <td>0.000000</td>\n",
       "      <td>13.63636</td>\n",
       "      <td>16.08324</td>\n",
       "      <td>59.50397</td>\n",
       "      <td>5.267598</td>\n",
       "      <td>20.44278</td>\n",
       "      <td>64.62264</td>\n",
       "      <td>1</td>\n",
       "    </tr>\n",
       "    <tr>\n",
       "      <th>2</th>\n",
       "      <td>32.64324</td>\n",
       "      <td>9.226386</td>\n",
       "      <td>42.406310</td>\n",
       "      <td>13.543720</td>\n",
       "      <td>0.0</td>\n",
       "      <td>0.000000</td>\n",
       "      <td>28.83436</td>\n",
       "      <td>14.59559</td>\n",
       "      <td>60.56992</td>\n",
       "      <td>5.482922</td>\n",
       "      <td>18.95419</td>\n",
       "      <td>53.94191</td>\n",
       "      <td>1</td>\n",
       "    </tr>\n",
       "    <tr>\n",
       "      <th>3</th>\n",
       "      <td>11.90953</td>\n",
       "      <td>13.883090</td>\n",
       "      <td>3.796973</td>\n",
       "      <td>11.443110</td>\n",
       "      <td>0.0</td>\n",
       "      <td>7.142857</td>\n",
       "      <td>11.11111</td>\n",
       "      <td>14.38939</td>\n",
       "      <td>58.33411</td>\n",
       "      <td>4.165093</td>\n",
       "      <td>21.63539</td>\n",
       "      <td>49.06103</td>\n",
       "      <td>1</td>\n",
       "    </tr>\n",
       "    <tr>\n",
       "      <th>4</th>\n",
       "      <td>36.88889</td>\n",
       "      <td>12.187500</td>\n",
       "      <td>76.875000</td>\n",
       "      <td>7.604167</td>\n",
       "      <td>0.0</td>\n",
       "      <td>0.000000</td>\n",
       "      <td>43.58974</td>\n",
       "      <td>13.90568</td>\n",
       "      <td>63.15364</td>\n",
       "      <td>4.324902</td>\n",
       "      <td>18.77984</td>\n",
       "      <td>52.38095</td>\n",
       "      <td>0</td>\n",
       "    </tr>\n",
       "  </tbody>\n",
       "</table>\n",
       "</div>"
      ],
      "text/plain": [
       "     LOWINC   PERASIAN   PERBLACK    PERHISP  PCTCHRT   PCTYRRND  PERMINTE  \\\n",
       "0  34.39730  23.299300  14.235280  11.411120      0.0  22.222220  15.91837   \n",
       "1  17.36507  29.328380   8.234897   9.314884      0.0   0.000000  13.63636   \n",
       "2  32.64324   9.226386  42.406310  13.543720      0.0   0.000000  28.83436   \n",
       "3  11.90953  13.883090   3.796973  11.443110      0.0   7.142857  11.11111   \n",
       "4  36.88889  12.187500  76.875000   7.604167      0.0   0.000000  43.58974   \n",
       "\n",
       "   AVYRSEXP    AVSALK  PERSPENK   PTRATIO     PCTAF  SUCCESS  \n",
       "0  14.70646  59.15732  4.445207  21.71025  57.03276        1  \n",
       "1  16.08324  59.50397  5.267598  20.44278  64.62264        1  \n",
       "2  14.59559  60.56992  5.482922  18.95419  53.94191        1  \n",
       "3  14.38939  58.33411  4.165093  21.63539  49.06103        1  \n",
       "4  13.90568  63.15364  4.324902  18.77984  52.38095        0  "
      ]
     },
     "execution_count": 124,
     "metadata": {},
     "output_type": "execute_result"
    }
   ],
   "source": [
    "## Let's filter to a subset of columns, calculate the percentage of students above\n",
    "## the national median, and create a new binary variance that indicates if \n",
    "## the percent of students above the national median excdeeds 50%\n",
    "\n",
    "dta = star98[['NABOVE', 'NBELOW', 'LOWINC', 'PERASIAN', 'PERBLACK', 'PERHISP',\n",
    "              'PCTCHRT', 'PCTYRRND', 'PERMINTE', 'AVYRSEXP', 'AVSALK',\n",
    "              'PERSPENK', 'PTRATIO', 'PCTAF']]\n",
    "percent_above = dta['NABOVE'] / (dta['NABOVE'] + dta['NBELOW'])\n",
    "dta = dta.drop(['NABOVE', 'NBELOW'], axis=1)\n",
    "dta[\"SUCCESS\"] = percent_above>0.5\n",
    "dta[\"SUCCESS\"] = dta[\"SUCCESS\"].astype(\"int\")\n",
    "dta.head()"
   ]
  },
  {
   "cell_type": "markdown",
   "metadata": {},
   "source": [
    "Next, we create the formula representing the logistic regression, as we would in R"
   ]
  },
  {
   "cell_type": "code",
   "execution_count": 126,
   "metadata": {
    "collapsed": false,
    "scrolled": true
   },
   "outputs": [],
   "source": [
    "formula = 'SUCCESS ~ LOWINC + PERASIAN + PERBLACK + PERHISP + PCTCHRT + \\\n",
    "           PCTYRRND + PERMINTE*AVYRSEXP*AVSALK + PERSPENK*PTRATIO*PCTAF'"
   ]
  },
  {
   "cell_type": "markdown",
   "metadata": {},
   "source": [
    "Finally, we fit the logistic regression by using statsmodels' ```glm``` call, and indicating that we're doing logistic regression by setting the ```family``` argument to binomial (again, as we do in R)."
   ]
  },
  {
   "cell_type": "code",
   "execution_count": 127,
   "metadata": {
    "collapsed": false,
    "scrolled": true
   },
   "outputs": [
    {
     "data": {
      "text/html": [
       "<table class=\"simpletable\">\n",
       "<caption>Generalized Linear Model Regression Results</caption>\n",
       "<tr>\n",
       "  <th>Dep. Variable:</th>       <td>SUCCESS</td>     <th>  No. Observations:  </th>  <td>   303</td> \n",
       "</tr>\n",
       "<tr>\n",
       "  <th>Model:</th>                 <td>GLM</td>       <th>  Df Residuals:      </th>  <td>   282</td> \n",
       "</tr>\n",
       "<tr>\n",
       "  <th>Model Family:</th>       <td>Binomial</td>     <th>  Df Model:          </th>  <td>    20</td> \n",
       "</tr>\n",
       "<tr>\n",
       "  <th>Link Function:</th>        <td>logit</td>      <th>  Scale:             </th>    <td>1.0</td>  \n",
       "</tr>\n",
       "<tr>\n",
       "  <th>Method:</th>               <td>IRLS</td>       <th>  Log-Likelihood:    </th> <td> -75.162</td>\n",
       "</tr>\n",
       "<tr>\n",
       "  <th>Date:</th>           <td>Wed, 12 Oct 2016</td> <th>  Deviance:          </th> <td>  150.32</td>\n",
       "</tr>\n",
       "<tr>\n",
       "  <th>Time:</th>               <td>08:28:54</td>     <th>  Pearson chi2:      </th>  <td>  167.</td> \n",
       "</tr>\n",
       "<tr>\n",
       "  <th>No. Iterations:</th>        <td>10</td>        <th>                     </th>     <td> </td>   \n",
       "</tr>\n",
       "</table>\n",
       "<table class=\"simpletable\">\n",
       "<tr>\n",
       "              <td></td>                <th>coef</th>     <th>std err</th>      <th>z</th>      <th>P>|z|</th> <th>[95.0% Conf. Int.]</th> \n",
       "</tr>\n",
       "<tr>\n",
       "  <th>Intercept</th>                <td>  103.2251</td> <td>   60.567</td> <td>    1.704</td> <td> 0.088</td> <td>  -15.484   221.934</td>\n",
       "</tr>\n",
       "<tr>\n",
       "  <th>LOWINC</th>                   <td>   -0.1344</td> <td>    0.025</td> <td>   -5.428</td> <td> 0.000</td> <td>   -0.183    -0.086</td>\n",
       "</tr>\n",
       "<tr>\n",
       "  <th>PERASIAN</th>                 <td>    0.1567</td> <td>    0.043</td> <td>    3.662</td> <td> 0.000</td> <td>    0.073     0.241</td>\n",
       "</tr>\n",
       "<tr>\n",
       "  <th>PERBLACK</th>                 <td>   -0.1568</td> <td>    0.051</td> <td>   -3.069</td> <td> 0.002</td> <td>   -0.257    -0.057</td>\n",
       "</tr>\n",
       "<tr>\n",
       "  <th>PERHISP</th>                  <td>   -0.0460</td> <td>    0.021</td> <td>   -2.138</td> <td> 0.033</td> <td>   -0.088    -0.004</td>\n",
       "</tr>\n",
       "<tr>\n",
       "  <th>PCTCHRT</th>                  <td>   -0.0255</td> <td>    0.035</td> <td>   -0.723</td> <td> 0.470</td> <td>   -0.094     0.044</td>\n",
       "</tr>\n",
       "<tr>\n",
       "  <th>PCTYRRND</th>                 <td>   -0.0119</td> <td>    0.012</td> <td>   -1.025</td> <td> 0.306</td> <td>   -0.035     0.011</td>\n",
       "</tr>\n",
       "<tr>\n",
       "  <th>PERMINTE</th>                 <td>   -3.9382</td> <td>    4.239</td> <td>   -0.929</td> <td> 0.353</td> <td>  -12.246     4.369</td>\n",
       "</tr>\n",
       "<tr>\n",
       "  <th>AVYRSEXP</th>                 <td>   -2.6731</td> <td>    3.176</td> <td>   -0.842</td> <td> 0.400</td> <td>   -8.898     3.552</td>\n",
       "</tr>\n",
       "<tr>\n",
       "  <th>PERMINTE:AVYRSEXP</th>        <td>    0.2827</td> <td>    0.294</td> <td>    0.960</td> <td> 0.337</td> <td>   -0.294     0.860</td>\n",
       "</tr>\n",
       "<tr>\n",
       "  <th>AVSALK</th>                   <td>   -0.6330</td> <td>    0.820</td> <td>   -0.772</td> <td> 0.440</td> <td>   -2.240     0.974</td>\n",
       "</tr>\n",
       "<tr>\n",
       "  <th>PERMINTE:AVSALK</th>          <td>    0.0720</td> <td>    0.073</td> <td>    0.981</td> <td> 0.326</td> <td>   -0.072     0.216</td>\n",
       "</tr>\n",
       "<tr>\n",
       "  <th>AVYRSEXP:AVSALK</th>          <td>    0.0492</td> <td>    0.056</td> <td>    0.876</td> <td> 0.381</td> <td>   -0.061     0.159</td>\n",
       "</tr>\n",
       "<tr>\n",
       "  <th>PERMINTE:AVYRSEXP:AVSALK</th> <td>   -0.0052</td> <td>    0.005</td> <td>   -1.021</td> <td> 0.307</td> <td>   -0.015     0.005</td>\n",
       "</tr>\n",
       "<tr>\n",
       "  <th>PERSPENK</th>                 <td>  -18.6489</td> <td>   11.248</td> <td>   -1.658</td> <td> 0.097</td> <td>  -40.694     3.396</td>\n",
       "</tr>\n",
       "<tr>\n",
       "  <th>PTRATIO</th>                  <td>   -2.8709</td> <td>    2.303</td> <td>   -1.247</td> <td> 0.213</td> <td>   -7.385     1.643</td>\n",
       "</tr>\n",
       "<tr>\n",
       "  <th>PERSPENK:PTRATIO</th>         <td>    0.8320</td> <td>    0.539</td> <td>    1.544</td> <td> 0.123</td> <td>   -0.224     1.888</td>\n",
       "</tr>\n",
       "<tr>\n",
       "  <th>PCTAF</th>                    <td>   -1.8809</td> <td>    1.305</td> <td>   -1.441</td> <td> 0.150</td> <td>   -4.440     0.678</td>\n",
       "</tr>\n",
       "<tr>\n",
       "  <th>PERSPENK:PCTAF</th>           <td>    0.5528</td> <td>    0.304</td> <td>    1.816</td> <td> 0.069</td> <td>   -0.044     1.149</td>\n",
       "</tr>\n",
       "<tr>\n",
       "  <th>PTRATIO:PCTAF</th>            <td>    0.0838</td> <td>    0.061</td> <td>    1.369</td> <td> 0.171</td> <td>   -0.036     0.204</td>\n",
       "</tr>\n",
       "<tr>\n",
       "  <th>PERSPENK:PTRATIO:PCTAF</th>   <td>   -0.0244</td> <td>    0.015</td> <td>   -1.678</td> <td> 0.093</td> <td>   -0.053     0.004</td>\n",
       "</tr>\n",
       "</table>"
      ],
      "text/plain": [
       "<class 'statsmodels.iolib.summary.Summary'>\n",
       "\"\"\"\n",
       "                 Generalized Linear Model Regression Results                  \n",
       "==============================================================================\n",
       "Dep. Variable:                SUCCESS   No. Observations:                  303\n",
       "Model:                            GLM   Df Residuals:                      282\n",
       "Model Family:                Binomial   Df Model:                           20\n",
       "Link Function:                  logit   Scale:                             1.0\n",
       "Method:                          IRLS   Log-Likelihood:                -75.162\n",
       "Date:                Wed, 12 Oct 2016   Deviance:                       150.32\n",
       "Time:                        08:28:54   Pearson chi2:                     167.\n",
       "No. Iterations:                    10                                         \n",
       "============================================================================================\n",
       "                               coef    std err          z      P>|z|      [95.0% Conf. Int.]\n",
       "--------------------------------------------------------------------------------------------\n",
       "Intercept                  103.2251     60.567      1.704      0.088       -15.484   221.934\n",
       "LOWINC                      -0.1344      0.025     -5.428      0.000        -0.183    -0.086\n",
       "PERASIAN                     0.1567      0.043      3.662      0.000         0.073     0.241\n",
       "PERBLACK                    -0.1568      0.051     -3.069      0.002        -0.257    -0.057\n",
       "PERHISP                     -0.0460      0.021     -2.138      0.033        -0.088    -0.004\n",
       "PCTCHRT                     -0.0255      0.035     -0.723      0.470        -0.094     0.044\n",
       "PCTYRRND                    -0.0119      0.012     -1.025      0.306        -0.035     0.011\n",
       "PERMINTE                    -3.9382      4.239     -0.929      0.353       -12.246     4.369\n",
       "AVYRSEXP                    -2.6731      3.176     -0.842      0.400        -8.898     3.552\n",
       "PERMINTE:AVYRSEXP            0.2827      0.294      0.960      0.337        -0.294     0.860\n",
       "AVSALK                      -0.6330      0.820     -0.772      0.440        -2.240     0.974\n",
       "PERMINTE:AVSALK              0.0720      0.073      0.981      0.326        -0.072     0.216\n",
       "AVYRSEXP:AVSALK              0.0492      0.056      0.876      0.381        -0.061     0.159\n",
       "PERMINTE:AVYRSEXP:AVSALK    -0.0052      0.005     -1.021      0.307        -0.015     0.005\n",
       "PERSPENK                   -18.6489     11.248     -1.658      0.097       -40.694     3.396\n",
       "PTRATIO                     -2.8709      2.303     -1.247      0.213        -7.385     1.643\n",
       "PERSPENK:PTRATIO             0.8320      0.539      1.544      0.123        -0.224     1.888\n",
       "PCTAF                       -1.8809      1.305     -1.441      0.150        -4.440     0.678\n",
       "PERSPENK:PCTAF               0.5528      0.304      1.816      0.069        -0.044     1.149\n",
       "PTRATIO:PCTAF                0.0838      0.061      1.369      0.171        -0.036     0.204\n",
       "PERSPENK:PTRATIO:PCTAF      -0.0244      0.015     -1.678      0.093        -0.053     0.004\n",
       "============================================================================================\n",
       "\"\"\""
      ]
     },
     "execution_count": 127,
     "metadata": {},
     "output_type": "execute_result"
    }
   ],
   "source": [
    "mod1 = smf.glm(formula=formula, data=dta, family=sm.families.Binomial()).fit()\n",
    "mod1.summary()"
   ]
  },
  {
   "cell_type": "code",
   "execution_count": 128,
   "metadata": {
    "collapsed": false,
    "scrolled": true
   },
   "outputs": [
    {
     "name": "stdout",
     "output_type": "stream",
     "text": [
      "Intercept                   103.225061\n",
      "LOWINC                       -0.134375\n",
      "PERASIAN                      0.156722\n",
      "PERBLACK                     -0.156807\n",
      "PERHISP                      -0.045952\n",
      "PCTCHRT                      -0.025470\n",
      "PCTYRRND                     -0.011937\n",
      "PERMINTE                     -3.938244\n",
      "AVYRSEXP                     -2.673062\n",
      "PERMINTE:AVYRSEXP             0.282675\n",
      "AVSALK                       -0.632951\n",
      "PERMINTE:AVSALK               0.072025\n",
      "AVYRSEXP:AVSALK               0.049215\n",
      "PERMINTE:AVYRSEXP:AVSALK     -0.005188\n",
      "PERSPENK                    -18.648906\n",
      "PTRATIO                      -2.870892\n",
      "PERSPENK:PTRATIO              0.832023\n",
      "PCTAF                        -1.880869\n",
      "PERSPENK:PCTAF                0.552780\n",
      "PTRATIO:PCTAF                 0.083849\n",
      "PERSPENK:PTRATIO:PCTAF       -0.024427\n",
      "dtype: float64\n"
     ]
    }
   ],
   "source": [
    "print(mod1.params)"
   ]
  }
 ],
 "metadata": {
  "anaconda-cloud": {},
  "kernelspec": {
   "display_name": "Python 3",
   "language": "python",
   "name": "python3"
  },
  "language_info": {
   "codemirror_mode": {
    "name": "ipython",
    "version": 3
   },
   "file_extension": ".py",
   "mimetype": "text/x-python",
   "name": "python",
   "nbconvert_exporter": "python",
   "pygments_lexer": "ipython3",
   "version": "3.5.2"
  }
 },
 "nbformat": 4,
 "nbformat_minor": 0
}
