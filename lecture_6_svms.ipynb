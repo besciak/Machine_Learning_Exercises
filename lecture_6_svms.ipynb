{
 "cells": [
  {
   "cell_type": "markdown",
   "metadata": {},
   "source": [
    "# Lecture 6: Support Vector Machines"
   ]
  },
  {
   "cell_type": "markdown",
   "metadata": {},
   "source": [
    "The scikit-learn documentation has a nice write-up of support vector machines [here](http://scikit-learn.org/stable/modules/svm.html).  There are three different implementations: [SVC](http://scikit-learn.org/stable/modules/generated/sklearn.svm.SVC.html#sklearn.svm.SVC), which is the main one that we'll use, [NuSVC](http://scikit-learn.org/stable/modules/generated/sklearn.svm.NuSVC.html#sklearn.svm.NuSVC), which is a slightly different formulation, and [LinearSVC](http://scikit-learn.org/stable/modules/generated/sklearn.svm.LinearSVC.html#sklearn.svm.LinearSVC), which only supports linear kernels but is faster on large datasets.  "
   ]
  },
  {
   "cell_type": "code",
   "execution_count": 2,
   "metadata": {
    "collapsed": false
   },
   "outputs": [],
   "source": [
    "%matplotlib inline"
   ]
  },
  {
   "cell_type": "code",
   "execution_count": 3,
   "metadata": {
    "collapsed": false
   },
   "outputs": [],
   "source": [
    "import numpy as np\n",
    "import pandas as pd\n",
    "import matplotlib.pyplot as plt\n",
    "# this is a new import\n",
    "from sklearn.svm import SVC, LinearSVC\n",
    "from sklearn.metrics import confusion_matrix, accuracy_score, classification_report, roc_curve, roc_auc_score\n",
    "from sklearn.cross_validation import train_test_split\n",
    "from sklearn import datasets\n",
    "import seaborn as sns\n",
    "from sklearn.grid_search import GridSearchCV"
   ]
  },
  {
   "cell_type": "markdown",
   "metadata": {},
   "source": [
    "We're going to work with the by-now-nauseatingly-familiar iris dataset."
   ]
  },
  {
   "cell_type": "code",
   "execution_count": 4,
   "metadata": {
    "collapsed": false
   },
   "outputs": [],
   "source": [
    "iris = datasets.load_iris()\n",
    "\n",
    "X = iris.data\n",
    "y = iris.target"
   ]
  },
  {
   "cell_type": "code",
   "execution_count": 5,
   "metadata": {
    "collapsed": false
   },
   "outputs": [
    {
     "name": "stdout",
     "output_type": "stream",
     "text": [
      "Iris Plants Database\n",
      "\n",
      "Notes\n",
      "-----\n",
      "Data Set Characteristics:\n",
      "    :Number of Instances: 150 (50 in each of three classes)\n",
      "    :Number of Attributes: 4 numeric, predictive attributes and the class\n",
      "    :Attribute Information:\n",
      "        - sepal length in cm\n",
      "        - sepal width in cm\n",
      "        - petal length in cm\n",
      "        - petal width in cm\n",
      "        - class:\n",
      "                - Iris-Setosa\n",
      "                - Iris-Versicolour\n",
      "                - Iris-Virginica\n",
      "    :Summary Statistics:\n",
      "\n",
      "    ============== ==== ==== ======= ===== ====================\n",
      "                    Min  Max   Mean    SD   Class Correlation\n",
      "    ============== ==== ==== ======= ===== ====================\n",
      "    sepal length:   4.3  7.9   5.84   0.83    0.7826\n",
      "    sepal width:    2.0  4.4   3.05   0.43   -0.4194\n",
      "    petal length:   1.0  6.9   3.76   1.76    0.9490  (high!)\n",
      "    petal width:    0.1  2.5   1.20  0.76     0.9565  (high!)\n",
      "    ============== ==== ==== ======= ===== ====================\n",
      "\n",
      "    :Missing Attribute Values: None\n",
      "    :Class Distribution: 33.3% for each of 3 classes.\n",
      "    :Creator: R.A. Fisher\n",
      "    :Donor: Michael Marshall (MARSHALL%PLU@io.arc.nasa.gov)\n",
      "    :Date: July, 1988\n",
      "\n",
      "This is a copy of UCI ML iris datasets.\n",
      "http://archive.ics.uci.edu/ml/datasets/Iris\n",
      "\n",
      "The famous Iris database, first used by Sir R.A Fisher\n",
      "\n",
      "This is perhaps the best known database to be found in the\n",
      "pattern recognition literature.  Fisher's paper is a classic in the field and\n",
      "is referenced frequently to this day.  (See Duda & Hart, for example.)  The\n",
      "data set contains 3 classes of 50 instances each, where each class refers to a\n",
      "type of iris plant.  One class is linearly separable from the other 2; the\n",
      "latter are NOT linearly separable from each other.\n",
      "\n",
      "References\n",
      "----------\n",
      "   - Fisher,R.A. \"The use of multiple measurements in taxonomic problems\"\n",
      "     Annual Eugenics, 7, Part II, 179-188 (1936); also in \"Contributions to\n",
      "     Mathematical Statistics\" (John Wiley, NY, 1950).\n",
      "   - Duda,R.O., & Hart,P.E. (1973) Pattern Classification and Scene Analysis.\n",
      "     (Q327.D83) John Wiley & Sons.  ISBN 0-471-22361-1.  See page 218.\n",
      "   - Dasarathy, B.V. (1980) \"Nosing Around the Neighborhood: A New System\n",
      "     Structure and Classification Rule for Recognition in Partially Exposed\n",
      "     Environments\".  IEEE Transactions on Pattern Analysis and Machine\n",
      "     Intelligence, Vol. PAMI-2, No. 1, 67-71.\n",
      "   - Gates, G.W. (1972) \"The Reduced Nearest Neighbor Rule\".  IEEE Transactions\n",
      "     on Information Theory, May 1972, 431-433.\n",
      "   - See also: 1988 MLC Proceedings, 54-64.  Cheeseman et al\"s AUTOCLASS II\n",
      "     conceptual clustering system finds 3 classes in the data.\n",
      "   - Many, many more ...\n",
      "\n"
     ]
    }
   ],
   "source": [
    "print(iris.DESCR)"
   ]
  },
  {
   "cell_type": "code",
   "execution_count": 6,
   "metadata": {
    "collapsed": false
   },
   "outputs": [
    {
     "data": {
      "text/plain": [
       "array([0, 0, 0, 0, 0, 0, 0, 0, 0, 0, 0, 0, 0, 0, 0, 0, 0, 0, 0, 0, 0, 0, 0,\n",
       "       0, 0, 0, 0, 0, 0, 0, 0, 0, 0, 0, 0, 0, 0, 0, 0, 0, 0, 0, 0, 0, 0, 0,\n",
       "       0, 0, 0, 0, 1, 1, 1, 1, 1, 1, 1, 1, 1, 1, 1, 1, 1, 1, 1, 1, 1, 1, 1,\n",
       "       1, 1, 1, 1, 1, 1, 1, 1, 1, 1, 1, 1, 1, 1, 1, 1, 1, 1, 1, 1, 1, 1, 1,\n",
       "       1, 1, 1, 1, 1, 1, 1, 1, 2, 2, 2, 2, 2, 2, 2, 2, 2, 2, 2, 2, 2, 2, 2,\n",
       "       2, 2, 2, 2, 2, 2, 2, 2, 2, 2, 2, 2, 2, 2, 2, 2, 2, 2, 2, 2, 2, 2, 2,\n",
       "       2, 2, 2, 2, 2, 2, 2, 2, 2, 2, 2, 2])"
      ]
     },
     "execution_count": 6,
     "metadata": {},
     "output_type": "execute_result"
    }
   ],
   "source": [
    "y"
   ]
  },
  {
   "cell_type": "markdown",
   "metadata": {},
   "source": [
    "We'll build a binary model to predict species 2 vs species 3, using the first two features only, so that we can visualize it."
   ]
  },
  {
   "cell_type": "code",
   "execution_count": 7,
   "metadata": {
    "collapsed": true
   },
   "outputs": [],
   "source": [
    "# Get the first two features for all observations where the species is \n",
    "# either species 2 (class '1' in the data) or species 3 (class '2' in the data)\n",
    "X = X[y != 0, :2]\n",
    "\n",
    "# Get the class labels for observations that either species 2 or 3\n",
    "y = y[y != 0]"
   ]
  },
  {
   "cell_type": "markdown",
   "metadata": {},
   "source": [
    "Next, let's create a train/test split."
   ]
  },
  {
   "cell_type": "code",
   "execution_count": 8,
   "metadata": {
    "collapsed": false
   },
   "outputs": [],
   "source": [
    "X_train, X_test, y_train, y_test = train_test_split(X, y, train_size=0.9)"
   ]
  },
  {
   "cell_type": "markdown",
   "metadata": {},
   "source": [
    "Recall from ISLR that the support vector machine takes a parameter $C$ that determines the amount of slack, or the maximum number of misclassified observations, allowed. In scklearn, $C$ has the opposite interpretation -larger values of $C$ mean there is *less* slack, while smaller values allow more slack.  In addition, while the linear kernel requires no additional parameters, other kernels typically do.  The *polynomial kernel*, which is defined as $K\\left(x,x'\\right) = \\left(\\gamma\\langle x, x' \\rangle + 1\\right)^{d}$ in sklearn, takes two parameters ($\\gamma$ and $d$).  The *radial kernel*, defined as $K\\left(x,x'\\right) = e^{-\\gamma \\sum_{j=1}^{p}\\left(x_{j}-x'_{j}\\right)^{2}}$ takes one ($\\gamma$)."
   ]
  },
  {
   "cell_type": "markdown",
   "metadata": {},
   "source": [
    "Let's now define a function that will train an SVM with a given kernel. The function will return the trained model, the test predictions, and the test distances from the hyperplane.\n"
   ]
  },
  {
   "cell_type": "code",
   "execution_count": 9,
   "metadata": {
    "collapsed": false
   },
   "outputs": [],
   "source": [
    "# Note that we are setting the linear kernel as the default\n",
    "# in the event that no kernel is specified, and \n",
    "# we're passing the parameter gamma regardless of whether it's required\n",
    "# (e.g., radial kernel) or not (e.g., linear kernel).  We can do this\n",
    "# because the SVC function in Python ignores parameters that are not \n",
    "# used by the kernel passed to it.\n",
    "def train_svm(kernel=\"linear\", C=1.0, gamma=1.0, degree=4):\n",
    "\n",
    "    svm = SVC(kernel=kernel, degree=degree, C=C, gamma=gamma) # Fixing polynomial degree at 4\n",
    "    svm.fit(X_train, y_train) # Fitting the SVM\n",
    "\n",
    "    # predict on the test set\n",
    "    y_preds = svm.predict(X_test)\n",
    "    # get the distances from the hyperplane, the sign of which\n",
    "    # is the prediction above\n",
    "    y_dists = svm.decision_function(X_test)\n",
    "    \n",
    "    return (svm, y_preds, y_dists)"
   ]
  },
  {
   "cell_type": "markdown",
   "metadata": {},
   "source": [
    "Let's define a function that will take a trained SVM and plot the 2-dimensional decision function, along with the training and test points."
   ]
  },
  {
   "cell_type": "code",
   "execution_count": 10,
   "metadata": {
    "collapsed": false
   },
   "outputs": [
    {
     "data": {
      "text/plain": [
       "array([[ 7. ,  3.2],\n",
       "       [ 6.4,  3.2],\n",
       "       [ 6.9,  3.1],\n",
       "       [ 5.5,  2.3],\n",
       "       [ 6.5,  2.8],\n",
       "       [ 5.7,  2.8],\n",
       "       [ 6.3,  3.3],\n",
       "       [ 4.9,  2.4],\n",
       "       [ 6.6,  2.9],\n",
       "       [ 5.2,  2.7],\n",
       "       [ 5. ,  2. ],\n",
       "       [ 5.9,  3. ],\n",
       "       [ 6. ,  2.2],\n",
       "       [ 6.1,  2.9],\n",
       "       [ 5.6,  2.9],\n",
       "       [ 6.7,  3.1],\n",
       "       [ 5.6,  3. ],\n",
       "       [ 5.8,  2.7],\n",
       "       [ 6.2,  2.2],\n",
       "       [ 5.6,  2.5],\n",
       "       [ 5.9,  3.2],\n",
       "       [ 6.1,  2.8],\n",
       "       [ 6.3,  2.5],\n",
       "       [ 6.1,  2.8],\n",
       "       [ 6.4,  2.9],\n",
       "       [ 6.6,  3. ],\n",
       "       [ 6.8,  2.8],\n",
       "       [ 6.7,  3. ],\n",
       "       [ 6. ,  2.9],\n",
       "       [ 5.7,  2.6],\n",
       "       [ 5.5,  2.4],\n",
       "       [ 5.5,  2.4],\n",
       "       [ 5.8,  2.7],\n",
       "       [ 6. ,  2.7],\n",
       "       [ 5.4,  3. ],\n",
       "       [ 6. ,  3.4],\n",
       "       [ 6.7,  3.1],\n",
       "       [ 6.3,  2.3],\n",
       "       [ 5.6,  3. ],\n",
       "       [ 5.5,  2.5],\n",
       "       [ 5.5,  2.6],\n",
       "       [ 6.1,  3. ],\n",
       "       [ 5.8,  2.6],\n",
       "       [ 5. ,  2.3],\n",
       "       [ 5.6,  2.7],\n",
       "       [ 5.7,  3. ],\n",
       "       [ 5.7,  2.9],\n",
       "       [ 6.2,  2.9],\n",
       "       [ 5.1,  2.5],\n",
       "       [ 5.7,  2.8],\n",
       "       [ 6.3,  3.3],\n",
       "       [ 5.8,  2.7],\n",
       "       [ 7.1,  3. ],\n",
       "       [ 6.3,  2.9],\n",
       "       [ 6.5,  3. ],\n",
       "       [ 7.6,  3. ],\n",
       "       [ 4.9,  2.5],\n",
       "       [ 7.3,  2.9],\n",
       "       [ 6.7,  2.5],\n",
       "       [ 7.2,  3.6],\n",
       "       [ 6.5,  3.2],\n",
       "       [ 6.4,  2.7],\n",
       "       [ 6.8,  3. ],\n",
       "       [ 5.7,  2.5],\n",
       "       [ 5.8,  2.8],\n",
       "       [ 6.4,  3.2],\n",
       "       [ 6.5,  3. ],\n",
       "       [ 7.7,  3.8],\n",
       "       [ 7.7,  2.6],\n",
       "       [ 6. ,  2.2],\n",
       "       [ 6.9,  3.2],\n",
       "       [ 5.6,  2.8],\n",
       "       [ 7.7,  2.8],\n",
       "       [ 6.3,  2.7],\n",
       "       [ 6.7,  3.3],\n",
       "       [ 7.2,  3.2],\n",
       "       [ 6.2,  2.8],\n",
       "       [ 6.1,  3. ],\n",
       "       [ 6.4,  2.8],\n",
       "       [ 7.2,  3. ],\n",
       "       [ 7.4,  2.8],\n",
       "       [ 7.9,  3.8],\n",
       "       [ 6.4,  2.8],\n",
       "       [ 6.3,  2.8],\n",
       "       [ 6.1,  2.6],\n",
       "       [ 7.7,  3. ],\n",
       "       [ 6.3,  3.4],\n",
       "       [ 6.4,  3.1],\n",
       "       [ 6. ,  3. ],\n",
       "       [ 6.9,  3.1],\n",
       "       [ 6.7,  3.1],\n",
       "       [ 6.9,  3.1],\n",
       "       [ 5.8,  2.7],\n",
       "       [ 6.8,  3.2],\n",
       "       [ 6.7,  3.3],\n",
       "       [ 6.7,  3. ],\n",
       "       [ 6.3,  2.5],\n",
       "       [ 6.5,  3. ],\n",
       "       [ 6.2,  3.4],\n",
       "       [ 5.9,  3. ]])"
      ]
     },
     "execution_count": 10,
     "metadata": {},
     "output_type": "execute_result"
    }
   ],
   "source": [
    "X"
   ]
  },
  {
   "cell_type": "code",
   "execution_count": 11,
   "metadata": {
    "collapsed": false
   },
   "outputs": [],
   "source": [
    "def plot_svm(svm, X, X_test):\n",
    "\n",
    "    # plot all of the data points\n",
    "    plt.scatter(X[:, 0], X[:, 1], c=y, zorder=10, cmap=plt.cm.Paired)\n",
    "    \n",
    "    # put an extra circle on top of the test points\n",
    "    plt.scatter(X_test[:, 0], X_test[:, 1], s=80, facecolors='none', zorder=10)\n",
    "\n",
    "    # step size of the mesh\n",
    "    h = 0.01\n",
    "    \n",
    "    # range of the mesh\n",
    "    x_min, x_max = X[:, 0].min() - .5, X[:, 0].max() + .5\n",
    "    y_min, y_max = X[:, 1].min() - .5, X[:, 1].max() + .5\n",
    "    xx, yy = np.meshgrid(np.arange(x_min, x_max, h), np.arange(y_min, y_max, h))\n",
    "\n",
    "    z = svm.decision_function(np.column_stack((xx.ravel(), yy.ravel())))\n",
    "\n",
    "    z = z.reshape(xx.shape)\n",
    "    plt.pcolormesh(xx, yy, z > 0, cmap=plt.cm.Paired)\n",
    "    \n",
    "    # this will plot the contour lines of the decision function\n",
    "    plt.contour(xx, yy, z, colors=['k', 'k', 'k'], linestyles=['--', '-', '--'],\n",
    "    levels=[-.5, 0, .5])\n",
    "\n",
    "    plt.show()"
   ]
  },
  {
   "cell_type": "markdown",
   "metadata": {},
   "source": [
    "First we'll train a linear SVM."
   ]
  },
  {
   "cell_type": "code",
   "execution_count": 12,
   "metadata": {
    "collapsed": false
   },
   "outputs": [],
   "source": [
    "svm_linear, y_preds_linear, y_dists_linear = train_svm(\"linear\", C=1.0)"
   ]
  },
  {
   "cell_type": "code",
   "execution_count": 13,
   "metadata": {
    "collapsed": false
   },
   "outputs": [
    {
     "data": {
      "text/plain": [
       "array([2, 1, 1, 2, 2, 1, 2, 2, 2, 2])"
      ]
     },
     "execution_count": 13,
     "metadata": {},
     "output_type": "execute_result"
    }
   ],
   "source": [
    "y_preds_linear"
   ]
  },
  {
   "cell_type": "code",
   "execution_count": 14,
   "metadata": {
    "collapsed": false
   },
   "outputs": [
    {
     "data": {
      "text/plain": [
       "array([ 0.08667479, -1.40667065, -1.40667065,  0.66667933,  2.34002932,\n",
       "       -0.31999339,  0.87334751,  0.95334751,  0.29334297,  0.83334751])"
      ]
     },
     "execution_count": 14,
     "metadata": {},
     "output_type": "execute_result"
    }
   ],
   "source": [
    "y_dists_linear"
   ]
  },
  {
   "cell_type": "markdown",
   "metadata": {},
   "source": [
    "We can see how many support vectors there are.  That is, how many points are on or inside of the margin.  This will return the number of support vectors of each class:"
   ]
  },
  {
   "cell_type": "code",
   "execution_count": 15,
   "metadata": {
    "collapsed": false
   },
   "outputs": [
    {
     "data": {
      "text/plain": [
       "array([32, 31])"
      ]
     },
     "execution_count": 15,
     "metadata": {},
     "output_type": "execute_result"
    }
   ],
   "source": [
    "svm_linear.n_support_"
   ]
  },
  {
   "cell_type": "code",
   "execution_count": 16,
   "metadata": {
    "collapsed": false
   },
   "outputs": [
    {
     "data": {
      "text/plain": [
       "array([ 1,  5,  7,  8, 10, 17, 19, 20, 22, 29, 31, 34, 38, 41, 43, 45, 46,\n",
       "       54, 56, 58, 64, 65, 66, 69, 70, 75, 80, 81, 82, 83, 85, 89,  0,  2,\n",
       "        3,  6, 12, 16, 18, 21, 24, 26, 28, 30, 33, 35, 36, 37, 39, 40, 44,\n",
       "       47, 49, 53, 62, 67, 68, 71, 72, 76, 79, 84, 86])"
      ]
     },
     "execution_count": 16,
     "metadata": {},
     "output_type": "execute_result"
    }
   ],
   "source": [
    "# indices of the support vectors\n",
    "svm_linear.support_"
   ]
  },
  {
   "cell_type": "code",
   "execution_count": 17,
   "metadata": {
    "collapsed": false
   },
   "outputs": [
    {
     "data": {
      "text/plain": [
       "array([[ 6. ,  3.4],\n",
       "       [ 6.3,  2.5],\n",
       "       [ 5.7,  3. ],\n",
       "       [ 6.7,  3. ],\n",
       "       [ 6.1,  3. ]])"
      ]
     },
     "execution_count": 17,
     "metadata": {},
     "output_type": "execute_result"
    }
   ],
   "source": [
    "# the vectors themselves\n",
    "svm_linear.support_vectors_[0:5]"
   ]
  },
  {
   "cell_type": "code",
   "execution_count": 18,
   "metadata": {
    "collapsed": false
   },
   "outputs": [
    {
     "data": {
      "image/png": "[encoded data removed]",
      "text/plain": [
       "<matplotlib.figure.Figure at 0x27bbb339b00>"
      ]
     },
     "metadata": {},
     "output_type": "display_data"
    }
   ],
   "source": [
    "svm_linear, y_preds_linear, y_dists_linear = train_svm(\"linear\", C=1.0)\n",
    "plot_svm(svm_linear, X, X_test)"
   ]
  },
  {
   "cell_type": "markdown",
   "metadata": {},
   "source": [
    "Let's try decreasing the C parameter, which is the opposite of how ISLR defines it.  In ISLR, C is the budget for how many points are allowed to violate the margin.  So larger C means more violations are allowed.  In scikit-learn, it's the opposite -smaller values of $C$ allow for more violations."
   ]
  },
  {
   "cell_type": "code",
   "execution_count": 19,
   "metadata": {
    "collapsed": false
   },
   "outputs": [
    {
     "data": {
      "image/png": "[encoded data removed]",
      "text/plain": [
       "<matplotlib.figure.Figure at 0x27bbb339c18>"
      ]
     },
     "metadata": {},
     "output_type": "display_data"
    }
   ],
   "source": [
    "# C is the inverse of how ISLR defines it\n",
    "svm_linear, y_preds_linear, y_dists_linear = train_svm(\"linear\", C=0.02)\n",
    "plot_svm(svm_linear, X, X_test)"
   ]
  },
  {
   "cell_type": "code",
   "execution_count": 20,
   "metadata": {
    "collapsed": false
   },
   "outputs": [
    {
     "data": {
      "image/png": "[encoded data removed]",
      "text/plain": [
       "<matplotlib.figure.Figure at 0x27bbbc289e8>"
      ]
     },
     "metadata": {},
     "output_type": "display_data"
    }
   ],
   "source": [
    "svm_linear, y_preds_linear, y_dists_linear = train_svm(\"linear\", C=0.05)\n",
    "plot_svm(svm_linear, X, X_test)"
   ]
  },
  {
   "cell_type": "code",
   "execution_count": 21,
   "metadata": {
    "collapsed": false
   },
   "outputs": [
    {
     "data": {
      "text/plain": [
       "GridSearchCV(cv=5, error_score='raise',\n",
       "       estimator=SVC(C=1.0, cache_size=200, class_weight=None, coef0=0.0,\n",
       "  decision_function_shape=None, degree=3, gamma='auto', kernel='linear',\n",
       "  max_iter=-1, probability=False, random_state=None, shrinking=True,\n",
       "  tol=0.001, verbose=False),\n",
       "       fit_params={}, iid=True, n_jobs=4,\n",
       "       param_grid={'gamma': [0.01, 1, 1.0], 'C': [0.001, 0.01, 0.1, 1, 10, 100, 1000]},\n",
       "       pre_dispatch='2*n_jobs', refit=True, scoring=None, verbose=0)"
      ]
     },
     "execution_count": 21,
     "metadata": {},
     "output_type": "execute_result"
    }
   ],
   "source": [
    "param_grid = {\"C\":[0.001, 0.01, 0.1, 1, 10, 100, 1000],\n",
    "             'gamma': [0.01, 1, 1.0]}\n",
    "\n",
    "svm = SVC(kernel=\"linear\")\n",
    "cv = GridSearchCV(svm, param_grid, cv=5, n_jobs=4, refit=True)\n",
    "cv.fit(X_train, y_train)"
   ]
  },
  {
   "cell_type": "code",
   "execution_count": 22,
   "metadata": {
    "collapsed": false
   },
   "outputs": [
    {
     "data": {
      "text/plain": [
       "array([ 3.4,  3.4,  3. ,  2.7,  3.1,  2.5,  2.5,  3. ,  3. ,  3. ,  3. ,\n",
       "        3.2,  3. ,  2.5,  2.5,  2.9,  3.1,  2.8,  2.8,  3.2,  2.8,  2.7,\n",
       "        2.6,  3.2,  2.2,  2.9,  3.1,  3.6,  2.8,  3.1,  2.7,  3. ,  2.7,\n",
       "        2.5,  3. ,  3.3,  2.9,  3.2,  2.9,  3.2,  3.4,  2.7,  2.4,  3.2,\n",
       "        3. ,  2.6,  3.3,  2.8,  3.1,  2.5,  2.5,  2.8,  3.8,  2.8,  2.8,\n",
       "        2.3,  2.7,  3. ,  2.8,  2.6,  3.2,  2.3,  2.6,  3. ,  2.9,  2.2,\n",
       "        2.9,  2.5,  3. ,  3. ,  2.9,  2.7,  3. ,  2.7,  3. ,  2.9,  2.8,\n",
       "        2.8,  3. ,  3. ,  2.8,  2.8,  2.7,  3.1,  3. ,  2.3,  3.3,  3.8,\n",
       "        2. ,  3.2])"
      ]
     },
     "execution_count": 22,
     "metadata": {},
     "output_type": "execute_result"
    }
   ],
   "source": [
    "X_train[:,1]\n"
   ]
  },
  {
   "cell_type": "code",
   "execution_count": 23,
   "metadata": {
    "collapsed": false
   },
   "outputs": [
    {
     "data": {
      "text/plain": [
       "array([2, 1, 2, 2, 2, 1, 2, 1, 1, 2, 1, 2, 2, 1, 1, 2, 2, 1, 2, 1, 1, 2, 1,\n",
       "       2, 2, 1, 2, 2, 2, 1, 2, 1, 1, 2, 1, 2, 2, 2, 1, 2, 2, 1, 1, 1, 2, 1,\n",
       "       1, 2, 2, 2, 1, 2, 2, 2, 1, 1, 1, 2, 1, 1, 2, 1, 2, 2, 1, 1, 1, 2, 2,\n",
       "       1, 1, 2, 2, 1, 2, 1, 2, 2, 1, 2, 1, 1, 1, 1, 2, 1, 2, 2, 1, 1])"
      ]
     },
     "execution_count": 23,
     "metadata": {},
     "output_type": "execute_result"
    }
   ],
   "source": [
    "y_train"
   ]
  },
  {
   "cell_type": "code",
   "execution_count": 24,
   "metadata": {
    "collapsed": false
   },
   "outputs": [
    {
     "data": {
      "text/plain": [
       "[mean: 0.51111, std: 0.01369, params: {'gamma': 0.01, 'C': 0.001},\n",
       " mean: 0.51111, std: 0.01369, params: {'gamma': 1, 'C': 0.001},\n",
       " mean: 0.51111, std: 0.01369, params: {'gamma': 1.0, 'C': 0.001},\n",
       " mean: 0.51111, std: 0.01369, params: {'gamma': 0.01, 'C': 0.01},\n",
       " mean: 0.51111, std: 0.01369, params: {'gamma': 1, 'C': 0.01},\n",
       " mean: 0.51111, std: 0.01369, params: {'gamma': 1.0, 'C': 0.01},\n",
       " mean: 0.73333, std: 0.06259, params: {'gamma': 0.01, 'C': 0.1},\n",
       " mean: 0.73333, std: 0.06259, params: {'gamma': 1, 'C': 0.1},\n",
       " mean: 0.73333, std: 0.06259, params: {'gamma': 1.0, 'C': 0.1},\n",
       " mean: 0.74444, std: 0.05763, params: {'gamma': 0.01, 'C': 1},\n",
       " mean: 0.74444, std: 0.05763, params: {'gamma': 1, 'C': 1},\n",
       " mean: 0.74444, std: 0.05763, params: {'gamma': 1.0, 'C': 1},\n",
       " mean: 0.72222, std: 0.08511, params: {'gamma': 0.01, 'C': 10},\n",
       " mean: 0.72222, std: 0.08511, params: {'gamma': 1, 'C': 10},\n",
       " mean: 0.72222, std: 0.08511, params: {'gamma': 1.0, 'C': 10},\n",
       " mean: 0.72222, std: 0.08511, params: {'gamma': 0.01, 'C': 100},\n",
       " mean: 0.72222, std: 0.08511, params: {'gamma': 1, 'C': 100},\n",
       " mean: 0.72222, std: 0.08511, params: {'gamma': 1.0, 'C': 100},\n",
       " mean: 0.73333, std: 0.10087, params: {'gamma': 0.01, 'C': 1000},\n",
       " mean: 0.73333, std: 0.10087, params: {'gamma': 1, 'C': 1000},\n",
       " mean: 0.73333, std: 0.10087, params: {'gamma': 1.0, 'C': 1000}]"
      ]
     },
     "execution_count": 24,
     "metadata": {},
     "output_type": "execute_result"
    }
   ],
   "source": [
    "cv.grid_scores_"
   ]
  },
  {
   "cell_type": "code",
   "execution_count": 25,
   "metadata": {
    "collapsed": false
   },
   "outputs": [
    {
     "data": {
      "text/plain": [
       "{'C': 1, 'gamma': 0.01}"
      ]
     },
     "execution_count": 25,
     "metadata": {},
     "output_type": "execute_result"
    }
   ],
   "source": [
    "# This SVM has the best performance according to cross validation \n",
    "# (measured by classification accuracy)\n",
    "cv.best_params_"
   ]
  },
  {
   "cell_type": "markdown",
   "metadata": {},
   "source": [
    "Let's fit an SVM with a polynomial kernel of degree 2:"
   ]
  },
  {
   "cell_type": "code",
   "execution_count": 26,
   "metadata": {
    "collapsed": false
   },
   "outputs": [
    {
     "data": {
      "image/png": "[encoded data removed]",
      "text/plain": [
       "<matplotlib.figure.Figure at 0x27bbbca82e8>"
      ]
     },
     "metadata": {},
     "output_type": "display_data"
    }
   ],
   "source": [
    "svm_poly, y_preds_poly, y_dists_poly = train_svm(\"poly\", degree=2)\n",
    "plot_svm(svm_poly, X, X_test)"
   ]
  },
  {
   "cell_type": "markdown",
   "metadata": {},
   "source": [
    "Let's now fit an SVM with polynomial kernel of degree 2, but allow for more violations of the margin and boundary (smaller value of $C$)"
   ]
  },
  {
   "cell_type": "code",
   "execution_count": 27,
   "metadata": {
    "collapsed": false
   },
   "outputs": [
    {
     "data": {
      "image/png": "[encoded data removed]",
      "text/plain": [
       "<matplotlib.figure.Figure at 0x27bbbbd7c50>"
      ]
     },
     "metadata": {},
     "output_type": "display_data"
    }
   ],
   "source": [
    "svm_poly, y_preds_poly, y_dists_poly = train_svm(\"poly\", degree=2, C = 0.2)\n",
    "plot_svm(svm_poly, X, X_test)"
   ]
  },
  {
   "cell_type": "markdown",
   "metadata": {},
   "source": [
    "Let's fit an SVM with a polynomial kernel of degree 3:"
   ]
  },
  {
   "cell_type": "code",
   "execution_count": 28,
   "metadata": {
    "collapsed": false
   },
   "outputs": [
    {
     "data": {
      "image/png": "[encoded data removed]",
      "text/plain": [
       "<matplotlib.figure.Figure at 0x27bbbbf0198>"
      ]
     },
     "metadata": {},
     "output_type": "display_data"
    }
   ],
   "source": [
    "svm_poly, y_preds_poly, y_dists_poly = train_svm(\"poly\", C=1.0, degree=3)\n",
    "plot_svm(svm_poly, X, X_test)"
   ]
  },
  {
   "cell_type": "markdown",
   "metadata": {},
   "source": [
    "Let's again fit an SVM with a polynomial kernel of degree 3, but allow for more violations (lower value of $C$)"
   ]
  },
  {
   "cell_type": "code",
   "execution_count": 29,
   "metadata": {
    "collapsed": false
   },
   "outputs": [
    {
     "data": {
      "image/png": "[encoded data removed]",
      "text/plain": [
       "<matplotlib.figure.Figure at 0x27bbbcac080>"
      ]
     },
     "metadata": {},
     "output_type": "display_data"
    }
   ],
   "source": [
    "svm_poly, y_preds_poly, y_dists_poly = train_svm(\"poly\", C=0.01, degree=3)\n",
    "plot_svm(svm_poly, X, X_test)"
   ]
  },
  {
   "cell_type": "markdown",
   "metadata": {},
   "source": [
    "Let's fit an SVM with an RBF kernel:"
   ]
  },
  {
   "cell_type": "code",
   "execution_count": 30,
   "metadata": {
    "collapsed": false
   },
   "outputs": [
    {
     "data": {
      "image/png": "[encoded data removed]",
      "text/plain": [
       "<matplotlib.figure.Figure at 0x27bbc7e4fd0>"
      ]
     },
     "metadata": {},
     "output_type": "display_data"
    }
   ],
   "source": [
    "svm_rbf, y_preds_rbf, y_dists_rbf = train_svm(\"rbf\", C=1.0, gamma=3)\n",
    "plot_svm(svm_rbf, X, X_test)"
   ]
  },
  {
   "cell_type": "markdown",
   "metadata": {},
   "source": [
    "Increasing the parameter of the RBF kernel makes us look at more and more local points, increasing the variance:"
   ]
  },
  {
   "cell_type": "code",
   "execution_count": 31,
   "metadata": {
    "collapsed": false
   },
   "outputs": [
    {
     "data": {
      "image/png": "[encoded data removed]",
      "text/plain": [
       "<matplotlib.figure.Figure at 0x27bbc850b70>"
      ]
     },
     "metadata": {},
     "output_type": "display_data"
    }
   ],
   "source": [
    "svm_rbf, y_preds_rbf, y_dists_rbf = train_svm(\"rbf\", C=1.0, gamma=30)\n",
    "plot_svm(svm_rbf, X, X_test)"
   ]
  },
  {
   "cell_type": "markdown",
   "metadata": {},
   "source": [
    "## Text Classification"
   ]
  },
  {
   "cell_type": "markdown",
   "metadata": {},
   "source": [
    "SVM's are quite ofen used in text classification problems.  Here, we're going to work through an example (a modified version of [this](http://scikit-learn.org/stable/auto_examples/text/document_classification_20newsgroups.html)) using the 20 newsgroups dataset. This dataset consists of samples of text from 20 different message boards (or newsgroups).  Each document is therefore classified as belonging to 1 of the 20 possible newsgroups.  See https://archive.ics.uci.edu/ml/datasets/Twenty+Newsgroups for more detail."
   ]
  },
  {
   "cell_type": "code",
   "execution_count": 32,
   "metadata": {
    "collapsed": false
   },
   "outputs": [],
   "source": [
    "from sklearn.datasets import fetch_20newsgroups\n",
    "from sklearn.feature_extraction.text import CountVectorizer"
   ]
  },
  {
   "cell_type": "markdown",
   "metadata": {},
   "source": [
    "First we'll load the data.  We'll load a training set first, then a test set.  Python's ```fetch_20newsgroups``` function does this for us.  The ```remove``` argument makes sure to remove metadata from each post like the header, footer, and quotes (instances where a message seems to quote another message). http://scikit-learn.org/stable/modules/generated/sklearn.datasets.fetch_20newsgroups.html"
   ]
  },
  {
   "cell_type": "code",
   "execution_count": 33,
   "metadata": {
    "collapsed": false
   },
   "outputs": [],
   "source": [
    "data_train = fetch_20newsgroups(subset='train', categories=None,\n",
    "                                shuffle=True, random_state=42,\n",
    "                                remove=('headers', 'footers', 'quotes'))\n",
    "\n",
    "data_test = fetch_20newsgroups(subset='test', categories=None,\n",
    "                               shuffle=True, random_state=42,\n",
    "                               remove=('headers', 'footers', 'quotes'))"
   ]
  },
  {
   "cell_type": "code",
   "execution_count": 34,
   "metadata": {
    "collapsed": false
   },
   "outputs": [
    {
     "data": {
      "text/plain": [
       "dict_keys(['data', 'DESCR', 'target_names', 'description', 'filenames', 'target'])"
      ]
     },
     "execution_count": 34,
     "metadata": {},
     "output_type": "execute_result"
    }
   ],
   "source": [
    "data_train.keys()"
   ]
  },
  {
   "cell_type": "code",
   "execution_count": 35,
   "metadata": {
    "collapsed": false
   },
   "outputs": [
    {
     "data": {
      "text/plain": [
       "11314"
      ]
     },
     "execution_count": 35,
     "metadata": {},
     "output_type": "execute_result"
    }
   ],
   "source": [
    "# Let's check how many observations we have\n",
    "len(data_train.data)"
   ]
  },
  {
   "cell_type": "code",
   "execution_count": 36,
   "metadata": {
    "collapsed": false
   },
   "outputs": [
    {
     "data": {
      "text/plain": [
       "['alt.atheism',\n",
       " 'comp.graphics',\n",
       " 'comp.os.ms-windows.misc',\n",
       " 'comp.sys.ibm.pc.hardware',\n",
       " 'comp.sys.mac.hardware',\n",
       " 'comp.windows.x',\n",
       " 'misc.forsale',\n",
       " 'rec.autos',\n",
       " 'rec.motorcycles',\n",
       " 'rec.sport.baseball',\n",
       " 'rec.sport.hockey',\n",
       " 'sci.crypt',\n",
       " 'sci.electronics',\n",
       " 'sci.med',\n",
       " 'sci.space',\n",
       " 'soc.religion.christian',\n",
       " 'talk.politics.guns',\n",
       " 'talk.politics.mideast',\n",
       " 'talk.politics.misc',\n",
       " 'talk.religion.misc']"
      ]
     },
     "execution_count": 36,
     "metadata": {},
     "output_type": "execute_result"
    }
   ],
   "source": [
    "#The data has postings from one of 20 \"newsgroup\" types.\n",
    "data_train.target_names"
   ]
  },
  {
   "cell_type": "markdown",
   "metadata": {},
   "source": [
    "The first training post comes from the \"rec.autos\" newsgroup:"
   ]
  },
  {
   "cell_type": "code",
   "execution_count": 37,
   "metadata": {
    "collapsed": false
   },
   "outputs": [
    {
     "data": {
      "text/plain": [
       "'rec.autos'"
      ]
     },
     "execution_count": 37,
     "metadata": {},
     "output_type": "execute_result"
    }
   ],
   "source": [
    "# data_train.target[0] is the label of the first article, stored as a number.\n",
    "# This value can be used to index into the target_names list, in order to match the\n",
    "# messages label to its newsgroup.\n",
    "data_train.target_names[data_train.target[0]]"
   ]
  },
  {
   "cell_type": "markdown",
   "metadata": {},
   "source": [
    "And has the following contents:"
   ]
  },
  {
   "cell_type": "code",
   "execution_count": 38,
   "metadata": {
    "collapsed": false
   },
   "outputs": [
    {
     "name": "stdout",
     "output_type": "stream",
     "text": [
      "I was wondering if anyone out there could enlighten me on this car I saw\n",
      "the other day. It was a 2-door sports car, looked to be from the late 60s/\n",
      "early 70s. It was called a Bricklin. The doors were really small. In addition,\n",
      "the front bumper was separate from the rest of the body. This is \n",
      "all I know. If anyone can tellme a model name, engine specs, years\n",
      "of production, where this car is made, history, or whatever info you\n",
      "have on this funky looking car, please e-mail.\n"
     ]
    }
   ],
   "source": [
    "print(data_train.data[0])"
   ]
  },
  {
   "cell_type": "markdown",
   "metadata": {},
   "source": [
    "Let's make a binary target variable to predict whether a given post is in the \"sci.space\" newsgroup:"
   ]
  },
  {
   "cell_type": "code",
   "execution_count": 39,
   "metadata": {
    "collapsed": false
   },
   "outputs": [],
   "source": [
    "space_target = (data_train.target==14).astype(\"int\")\n",
    "space_target_test = (data_test.target==14).astype(\"int\")"
   ]
  },
  {
   "cell_type": "markdown",
   "metadata": {},
   "source": [
    "One way to turn a blob of text into features or predictors (to \"vectorize\" it) is to simply count up the number of times each word appears.  We'll use the ```CountVectorizer``` function provided in Python to do this for us.  However, we'll first need to remove common words that convey no meaning (like 'the', 'an', 'a', etc.).  These words are called *stop words*, and most packages that deal with text data have a list of them built in.  Therefore, we just need to tell ```CountVectorizer``` which language we're using, so it removes the appropriate stop words."
   ]
  },
  {
   "cell_type": "code",
   "execution_count": 40,
   "metadata": {
    "collapsed": false
   },
   "outputs": [],
   "source": [
    "vectorizer = CountVectorizer(stop_words='english')\n",
    "X_train = vectorizer.fit_transform(data_train.data) # Apply the vectorizer to the training data\n",
    "X_test = vectorizer.transform(data_test.data) # Apply the vectorizer to the test data"
   ]
  },
  {
   "cell_type": "markdown",
   "metadata": {},
   "source": [
    "The features are the number of times each word in the \"vocabulary\" appears in a given post.  Note that, by far, most words won't show up in most posts, so the matrix of predcitors is very \"sparse\"."
   ]
  },
  {
   "cell_type": "code",
   "execution_count": 41,
   "metadata": {
    "collapsed": false
   },
   "outputs": [
    {
     "data": {
      "text/plain": [
       "101323"
      ]
     },
     "execution_count": 41,
     "metadata": {},
     "output_type": "execute_result"
    }
   ],
   "source": [
    "# Check how many words are in the vocabulary for our documents\n",
    "len(vectorizer.vocabulary_)"
   ]
  },
  {
   "cell_type": "code",
   "execution_count": 42,
   "metadata": {
    "collapsed": false
   },
   "outputs": [
    {
     "data": {
      "text/plain": [
       "(11314, 101323)"
      ]
     },
     "execution_count": 42,
     "metadata": {},
     "output_type": "execute_result"
    }
   ],
   "source": [
    "# We see that our training set now has one obesrvaton per original training article,\n",
    "# and one column per word in the vocabulary built up by the vectorizer\n",
    "X_train.shape"
   ]
  },
  {
   "cell_type": "code",
   "execution_count": 43,
   "metadata": {
    "collapsed": false
   },
   "outputs": [
    {
     "data": {
      "text/plain": [
       "(7532, 101323)"
      ]
     },
     "execution_count": 43,
     "metadata": {},
     "output_type": "execute_result"
    }
   ],
   "source": [
    "# The same is true for the test data\n",
    "X_test.shape"
   ]
  },
  {
   "cell_type": "code",
   "execution_count": 44,
   "metadata": {
    "collapsed": false
   },
   "outputs": [
    {
     "data": {
      "text/plain": [
       "{'xvertext': 99032,\n",
       " '11110100': 2039,\n",
       " 'inet_addr': 49685,\n",
       " 'tinue': 88903,\n",
       " 'newbies': 65486,\n",
       " 'udc': 91025,\n",
       " 'exabyte': 38340,\n",
       " 'unfortunate': 91787,\n",
       " 'aem': 17087,\n",
       " 'sugrfx': 86009,\n",
       " 'ns9w': 66562,\n",
       " 'meinung': 60666,\n",
       " 'meningitits': 60793,\n",
       " 'zt58': 101157,\n",
       " 'verity': 93804,\n",
       " 'arenot': 19424,\n",
       " 'note': 66350,\n",
       " 'bridegroom': 24112,\n",
       " '71y': 11263,\n",
       " 'kfj8': 53885,\n",
       " 'nwh': 66787,\n",
       " 'ftr': 41750,\n",
       " 'gash': 42607,\n",
       " 'ajwk': 17652,\n",
       " 'lezgins': 56262,\n",
       " 'suppressing': 86323,\n",
       " 'latitude': 55628,\n",
       " '0r445': 1239,\n",
       " 'departure': 32838,\n",
       " 'clasps': 27691,\n",
       " 'dcan': 31998,\n",
       " 'moniter': 62811,\n",
       " 'vmmt': 94395,\n",
       " 'bql6cl': 23865,\n",
       " 'geodesy': 43015,\n",
       " 'shimizu': 82026,\n",
       " 'poli': 72004,\n",
       " 'openers': 68044,\n",
       " 'venues': 93745,\n",
       " 'xgetatomname': 98108,\n",
       " 'dfio': 33313,\n",
       " 'xcp73y': 97951,\n",
       " 'prostitutes': 73486,\n",
       " 'lykpikzsfk': 57866,\n",
       " 'curbed': 30960,\n",
       " 'stranded': 85404,\n",
       " 'sexes': 81665,\n",
       " 'scalable': 80490,\n",
       " 'righty': 78220,\n",
       " 'catabolism': 25962,\n",
       " '_0k': 14541,\n",
       " 'tommorrow': 89204,\n",
       " 'adb': 16787,\n",
       " 'rm2': 78558,\n",
       " 'bq4': 23849,\n",
       " 'xsyncs': 98687,\n",
       " '10111011': 1681,\n",
       " 'spenser': 84133,\n",
       " 'elynuik': 36799,\n",
       " 'k6hd': 53182,\n",
       " 'maccoll': 58796,\n",
       " 'nxpfo': 66819,\n",
       " 'gracefully': 44042,\n",
       " 'jeremy': 51987,\n",
       " 'groom': 44413,\n",
       " 'dec': 32157,\n",
       " 'mendoza': 60784,\n",
       " 'isc': 51018,\n",
       " 'fade': 39253,\n",
       " 'oveiqvf1ox': 68800,\n",
       " 'matise': 59804,\n",
       " 'lak': 55387,\n",
       " 'arithmetic': 19505,\n",
       " 'qd0': 74499,\n",
       " '35894': 6549,\n",
       " 'mi5': 61342,\n",
       " 'amphenol': 18319,\n",
       " 'ingestive': 49868,\n",
       " 'faxed': 39596,\n",
       " 'invertible': 50666,\n",
       " 'govbernment': 43943,\n",
       " 'nl': 66008,\n",
       " 'petitioner': 70737,\n",
       " 'renovation': 77253,\n",
       " 'iqy': 50867,\n",
       " 'girisi': 43365,\n",
       " 'ppvjicfmrrekxddi': 72485,\n",
       " 'advertisment': 17039,\n",
       " 'univ': 91923,\n",
       " 'm4xeo': 58310,\n",
       " 'icbm': 48395,\n",
       " '2sya8f': 5843,\n",
       " 'ploy': 71728,\n",
       " 'ejo': 36521,\n",
       " 'm13r6t': 57994,\n",
       " 'qs4l': 74854,\n",
       " 'mb0': 59966,\n",
       " 'treeless': 89878,\n",
       " 'hashed': 45701,\n",
       " 'choir': 27061,\n",
       " 'xuuencode': 99011,\n",
       " 'whats': 96119,\n",
       " 'mcday': 60159,\n",
       " '15pm': 2930,\n",
       " '48l': 7987,\n",
       " '_k': 15217,\n",
       " 'rummaging': 79371,\n",
       " 'imputeth': 49287,\n",
       " '7v_71yt': 12182,\n",
       " 'gqn2rpn5g': 44019,\n",
       " 'xselection': 98632,\n",
       " 'f3qhf': 39003,\n",
       " 'novy': 66413,\n",
       " 'speak': 83992,\n",
       " 'ksema': 54833,\n",
       " 'krupp': 54814,\n",
       " 'zeven': 100636,\n",
       " 'worries': 97003,\n",
       " 'b6ulx': 21074,\n",
       " 'crooks': 30526,\n",
       " 'hermeneutrik': 46277,\n",
       " 'dyer': 35582,\n",
       " 'jaws': 51821,\n",
       " 'rap': 75848,\n",
       " 'vbto8': 93524,\n",
       " 'zi0': 100700,\n",
       " '8a15u': 12859,\n",
       " 'indigenous': 49581,\n",
       " 'narasimhan': 64823,\n",
       " 'odu': 67469,\n",
       " 'veins': 93677,\n",
       " '803': 12295,\n",
       " 'dayna': 31939,\n",
       " 'jdm3': 51903,\n",
       " 'rifles': 78186,\n",
       " 'wes': 95988,\n",
       " 'prevailing': 72914,\n",
       " 'sil': 82488,\n",
       " 'xio': 98231,\n",
       " 'ueckart': 91063,\n",
       " 'kirnkjz': 54197,\n",
       " 'grandsons': 44123,\n",
       " 'tiddleywinks': 88761,\n",
       " 'enyzme': 37444,\n",
       " 'veg': 93638,\n",
       " 'xflush': 98076,\n",
       " 'macbinary': 58791,\n",
       " '532p': 8784,\n",
       " 'laserdisks': 55574,\n",
       " 'guilford': 44669,\n",
       " 'winodw': 96529,\n",
       " '5nm': 9511,\n",
       " 'slices': 83058,\n",
       " 'smarks': 83217,\n",
       " 'mein': 60663,\n",
       " '4vo': 8502,\n",
       " 'laz': 55738,\n",
       " '626': 9937,\n",
       " '425f': 7614,\n",
       " '6ei0l': 10541,\n",
       " 'taker': 87379,\n",
       " '1ecf': 3715,\n",
       " '97ai': 13887,\n",
       " 'sexed': 81664,\n",
       " 'fatty': 39556,\n",
       " 'guh55wr': 44652,\n",
       " 'thelike': 88342,\n",
       " 'europe': 38092,\n",
       " 'b9ot_': 21153,\n",
       " 'j16': 51419,\n",
       " '4xlv': 8541,\n",
       " 'vsync': 94713,\n",
       " 'm7klj': 58526,\n",
       " '659': 10127,\n",
       " 'oqshz': 68207,\n",
       " 'icf': 48417,\n",
       " '1de': 3688,\n",
       " 'quickstart': 75117,\n",
       " 'lyhpez': 57851,\n",
       " 'harmoniously': 45635,\n",
       " 'inadvertent': 49344,\n",
       " 'kallista': 53361,\n",
       " 'dc6150s': 31995,\n",
       " 'stirred': 85251,\n",
       " 'unnoticeable': 92033,\n",
       " 'n5pr': 64578,\n",
       " 'haines': 45268,\n",
       " 'slambert': 82977,\n",
       " 'toutes': 89431,\n",
       " 'fatigues': 39547,\n",
       " 'distributions': 34257,\n",
       " 'firetruck': 40375,\n",
       " 'dempsey': 32752,\n",
       " 'jb': 51831,\n",
       " 'expt': 38748,\n",
       " 'mateo': 59766,\n",
       " 'bared': 21595,\n",
       " 'ggu': 43208,\n",
       " 'g_wl': 42373,\n",
       " 'bassen': 21749,\n",
       " 'laaaa43': 55281,\n",
       " 'obscure': 67245,\n",
       " '3ch0l': 6873,\n",
       " 'powerplay': 72422,\n",
       " 'os5': 68498,\n",
       " 'ftlh2co': 41726,\n",
       " 'manasseh': 59288,\n",
       " '5hr7h': 9362,\n",
       " 'vida': 94028,\n",
       " 'aq0n': 19253,\n",
       " 'bung': 24602,\n",
       " 'duodocks': 35387,\n",
       " 'hudrogen': 47601,\n",
       " 'embl': 36857,\n",
       " 'continuously': 29519,\n",
       " '6r5u': 10879,\n",
       " 'polkadoted': 72039,\n",
       " '44r': 7757,\n",
       " 'avery': 20623,\n",
       " '_logically_': 15251,\n",
       " 'supreme': 86334,\n",
       " '5h08': 9340,\n",
       " 'okahata': 67694,\n",
       " '200v': 4362,\n",
       " 'hindemuth': 46607,\n",
       " 'processes': 73134,\n",
       " '10110001': 1660,\n",
       " 'arbitration': 19343,\n",
       " '7j': 11961,\n",
       " 'petja': 70739,\n",
       " 'm3mb': 58217,\n",
       " 't32w': 86994,\n",
       " '61p': 9900,\n",
       " 'toney': 89219,\n",
       " 'introductory': 50599,\n",
       " 'hum': 47638,\n",
       " 't_bind': 87246,\n",
       " 'xtgcxte': 98800,\n",
       " '6c3': 10457,\n",
       " '52wf': 8767,\n",
       " '6ihsh1': 10687,\n",
       " 'guardians': 44613,\n",
       " 'jerseys': 52001,\n",
       " 'avoidable': 20653,\n",
       " '2i1': 5542,\n",
       " 'aghdam': 17342,\n",
       " 'nazarenes': 64967,\n",
       " 'increases': 49482,\n",
       " 'mde06': 60379,\n",
       " 'mention': 60812,\n",
       " 'ex': 38327,\n",
       " 'grafted': 44081,\n",
       " 'godess': 43741,\n",
       " 'quads': 74972,\n",
       " '4rdu': 8408,\n",
       " 'grrreat': 44470,\n",
       " 'kjrnkh': 54279,\n",
       " '7042': 11143,\n",
       " 'dnp8kb': 34530,\n",
       " 'undersea': 91632,\n",
       " 'relatively': 77005,\n",
       " 'idx5': 48606,\n",
       " '285w': 5170,\n",
       " 'drunken': 35142,\n",
       " 'nity': 65903,\n",
       " 'superethnic': 86215,\n",
       " 'oky': 67721,\n",
       " 'dcgyhm9': 32009,\n",
       " 'abducted': 16166,\n",
       " 'fazla': 39605,\n",
       " 'shatim': 81881,\n",
       " 'nextstation': 65570,\n",
       " 'gss': 44538,\n",
       " 'mount': 63143,\n",
       " 'meikwn': 60662,\n",
       " 'zilkade': 100725,\n",
       " 'vovp': 94585,\n",
       " 'fpu': 41314,\n",
       " '3e5': 6931,\n",
       " '3735': 6670,\n",
       " 'xconfig': 97940,\n",
       " 'weights': 95901,\n",
       " 'i65i16': 48179,\n",
       " 'declare': 32234,\n",
       " 'ruf': 79326,\n",
       " 'uncontested': 91523,\n",
       " 'uv4m': 92827,\n",
       " 'arturs': 19711,\n",
       " '_agapate': 14815,\n",
       " 'q7bon': 74379,\n",
       " '08a283a0': 820,\n",
       " 'invocation': 50697,\n",
       " 'gravitationally': 44217,\n",
       " 'photopress': 71045,\n",
       " 'dealerships': 32089,\n",
       " 'mercies': 60852,\n",
       " '40039': 7461,\n",
       " 'ee': 36253,\n",
       " 'gains': 42425,\n",
       " 'disputes': 34147,\n",
       " 'mte7pqc': 63660,\n",
       " '2puo': 5747,\n",
       " 'sneaze': 83377,\n",
       " 'creams': 30353,\n",
       " 'dll': 34446,\n",
       " 'remix': 77176,\n",
       " 'fetishism': 39958,\n",
       " 'chinalake': 26986,\n",
       " 'zrlj': 101106,\n",
       " 'j1d3k8v': 51434,\n",
       " 'capitalist': 25670,\n",
       " 'chased': 26760,\n",
       " 'throug': 88629,\n",
       " 'sh2': 81741,\n",
       " 'dr': 34937,\n",
       " 'e1s': 35684,\n",
       " 'biotic': 22867,\n",
       " 'scharzschild': 80611,\n",
       " 'namelijk': 64778,\n",
       " 'sculptura': 80975,\n",
       " 'pronounces': 73354,\n",
       " 'xmnwidth': 98403,\n",
       " 'ju0_5': 52711,\n",
       " 'q6ejq': 74348,\n",
       " 'ncaa': 65027,\n",
       " 'phenomenologist': 70905,\n",
       " 'ay0': 20823,\n",
       " 'cradle': 30281,\n",
       " 'tendonitis': 87984,\n",
       " '_no_': 15336,\n",
       " 'pweh': 74111,\n",
       " 'coeur': 28187,\n",
       " 'svin01': 86513,\n",
       " 'muhieddin': 63784,\n",
       " 'rgis': 78041,\n",
       " 'statutory': 84994,\n",
       " 'hi0': 46471,\n",
       " 'calculator': 25384,\n",
       " 'mosquitos': 63056,\n",
       " 'sprite': 84389,\n",
       " 'orlhzrchz': 68414,\n",
       " 'marry': 59617,\n",
       " 'train': 89600,\n",
       " 'xxxxdraft': 99174,\n",
       " 'growable': 44457,\n",
       " '94i': 13716,\n",
       " 'plotmtv': 71713,\n",
       " 'cx_s3o': 31145,\n",
       " '827y': 12464,\n",
       " '113s1t3s': 2104,\n",
       " 'hardon': 45589,\n",
       " 'sensibly': 81415,\n",
       " 'mkfontdir': 62197,\n",
       " '5rbmo': 9572,\n",
       " 'mr1865': 63400,\n",
       " 'notion': 66377,\n",
       " '64kbps': 10074,\n",
       " 'backpack': 21288,\n",
       " 'qvtnet34': 75259,\n",
       " 'southard': 83818,\n",
       " 'allegro24': 17955,\n",
       " 'scanners': 80538,\n",
       " '20i': 4453,\n",
       " 'fantastical': 39420,\n",
       " 'veteran': 93892,\n",
       " 'cbx': 26161,\n",
       " 'logics': 57186,\n",
       " 'name_______________________________________________________________': 64774,\n",
       " 'y5859': 99315,\n",
       " 'mental': 60808,\n",
       " 't_obj': 87257,\n",
       " 'ttq0': 90241,\n",
       " 'whatnot': 96118,\n",
       " 'sjc': 82793,\n",
       " 'patio': 69999,\n",
       " 'ropes': 78944,\n",
       " 't66q': 87145,\n",
       " 'noauth': 66088,\n",
       " 'dietikon': 33524,\n",
       " 'nonexistant': 66176,\n",
       " 'reinvented': 76950,\n",
       " 'wa4': 95304,\n",
       " 'latrobe': 55631,\n",
       " 'zcup': 100524,\n",
       " 'mta': 63649,\n",
       " 'division': 34335,\n",
       " 'condos': 29044,\n",
       " 'hitachi': 46694,\n",
       " '24eww4': 4848,\n",
       " '1d89i': 3681,\n",
       " '90vanagon': 13459,\n",
       " 'eikt': 36473,\n",
       " '3qir': 7279,\n",
       " 'g4a': 42220,\n",
       " 'assures': 19996,\n",
       " '2bbdf': 5352,\n",
       " 'escott': 37821,\n",
       " 'wandering': 95472,\n",
       " 'corrected': 29886,\n",
       " 'pas16': 69869,\n",
       " 'emergency': 36887,\n",
       " 'iafrate': 48306,\n",
       " 'jnszjzjtc': 52332,\n",
       " 'prosyletizing': 73491,\n",
       " 'letsee': 56182,\n",
       " '1857': 3298,\n",
       " 'qvduqvdlqrs': 75217,\n",
       " 'measurethe': 60480,\n",
       " '34020': 6381,\n",
       " 'otto': 68622,\n",
       " 'djf8': 34379,\n",
       " 'tampa': 87442,\n",
       " 'modulus': 62671,\n",
       " 'mathematical': 59783,\n",
       " 'qs4u': 74858,\n",
       " 'redpath': 76626,\n",
       " 'allelou_': 17957,\n",
       " 'receptacle': 76399,\n",
       " '90k': 13446,\n",
       " 'efum': 36351,\n",
       " '4999': 8023,\n",
       " 'mail': 59072,\n",
       " 'm9p': 58655,\n",
       " 'commodity': 28569,\n",
       " 'somethingness': 83678,\n",
       " '4aaph': 8057,\n",
       " '362': 6594,\n",
       " 'joyfully': 52515,\n",
       " 'behnke': 22163,\n",
       " '49p': 8035,\n",
       " 'og5kmzs': 67588,\n",
       " 'm03ho': 57931,\n",
       " 'cg6reg': 26526,\n",
       " 'odyssey': 67473,\n",
       " 'features': 39747,\n",
       " '482': 7939,\n",
       " 'cartel': 25872,\n",
       " 'factcard93': 39226,\n",
       " 'excimer': 38422,\n",
       " 'g9v3': 42326,\n",
       " 'ruskin': 79426,\n",
       " 'silvestri': 82530,\n",
       " 'butte': 24767,\n",
       " 'moi': 62700,\n",
       " 'qveiqy': 75230,\n",
       " 'interracial': 50482,\n",
       " 'delusional': 32661,\n",
       " 'guerrillas': 44638,\n",
       " '5wa4ew': 9707,\n",
       " 'lowv_': 57405,\n",
       " 'equalizing': 37587,\n",
       " 'programma': 73230,\n",
       " 'agonies': 17362,\n",
       " 'exk': 38557,\n",
       " 'vtz': 94746,\n",
       " 'congressionally': 29183,\n",
       " 'pscript': 73648,\n",
       " 'stepped': 85115,\n",
       " 'desc': 32964,\n",
       " 'fewpeople': 39977,\n",
       " 'mx9ql': 64240,\n",
       " 'panacea': 69545,\n",
       " 'sesssion': 81586,\n",
       " 'bluestone': 23263,\n",
       " 'uwi': 92881,\n",
       " 'sanctioned': 80211,\n",
       " 'unwittingly': 92301,\n",
       " 'marginaly': 59502,\n",
       " 'thighs': 88481,\n",
       " 's4': 79756,\n",
       " 'bimetallic': 22788,\n",
       " 'acronyms': 16667,\n",
       " 'tucana': 90271,\n",
       " 'quadrangle': 74961,\n",
       " 'heathens': 46006,\n",
       " 'hicolor': 46494,\n",
       " 'throwing': 88640,\n",
       " 'm75vrnevzl': 58492,\n",
       " 'merchandise': 60845,\n",
       " 'kg2587': 53897,\n",
       " 'overran': 68902,\n",
       " 'manocha': 59375,\n",
       " 'st6': 84736,\n",
       " 'informatio': 49822,\n",
       " 'encryption': 37103,\n",
       " 'fj05': 40461,\n",
       " 'disagee': 33781,\n",
       " 'weatherhead': 95827,\n",
       " 'w45wa7': 95112,\n",
       " 'mirza': 61828,\n",
       " '771t772z772r': 11630,\n",
       " 'ute': 92720,\n",
       " 'waste': 95595,\n",
       " 'lgibb': 56311,\n",
       " 'backdrops': 21257,\n",
       " 'informix': 49831,\n",
       " 'shooter': 82121,\n",
       " 'glove': 43589,\n",
       " 'c24gc24e': 25022,\n",
       " 'unbilical': 91451,\n",
       " 'mgf': 61207,\n",
       " '2zx4': 6042,\n",
       " 'xga': 98098,\n",
       " 'retired': 77787,\n",
       " 'subgroups': 85733,\n",
       " 'nielson': 65772,\n",
       " '05': 624,\n",
       " 'temperaments': 87930,\n",
       " '24gbihum': 4855,\n",
       " 'frowns': 41642,\n",
       " 'cjackson': 27570,\n",
       " '88ori': 12779,\n",
       " 'concealed': 28920,\n",
       " 'figuring': 40181,\n",
       " 'ibrahim': 48369,\n",
       " 'mw9': 64170,\n",
       " 'sends': 81388,\n",
       " 'disasters': 33821,\n",
       " 'helmet': 46152,\n",
       " 'memmedov': 60746,\n",
       " 'vasudev': 93458,\n",
       " 'expierence': 38654,\n",
       " 'map_state': 59434,\n",
       " '14215': 2632,\n",
       " 'jz77tfnkk': 53003,\n",
       " 'x8wv2': 97686,\n",
       " 'aj008': 17610,\n",
       " 'arcade': 19353,\n",
       " 'caveats': 26076,\n",
       " '8wjzous': 13316,\n",
       " 'lock': 57129,\n",
       " '3422': 6392,\n",
       " 'w7': 95202,\n",
       " 'mm7b': 62335,\n",
       " 'sfu8': 81706,\n",
       " '_2gx': 14568,\n",
       " 'fkzsx16mk': 40514,\n",
       " '2jm': 5580,\n",
       " 'uleth': 91256,\n",
       " 'sadik': 79998,\n",
       " 'dtvpgi': 35252,\n",
       " 'hx9o01f6': 47842,\n",
       " 'amusingly': 18380,\n",
       " 'jqlxn': 52610,\n",
       " 'confiscating': 29118,\n",
       " 'wolfpack': 96851,\n",
       " '081': 776,\n",
       " 'y26cn': 99270,\n",
       " 'x8zrciid9': 97700,\n",
       " 'rider': 78161,\n",
       " 'jacobs': 51690,\n",
       " 'dwight': 35519,\n",
       " 'antti': 18864,\n",
       " 'cause': 26051,\n",
       " 'alicia': 17898,\n",
       " 'bnkjznkjzn1': 23358,\n",
       " 'bust': 24743,\n",
       " '2dk3': 5428,\n",
       " 'jsertm': 52663,\n",
       " 'qs5iq': 74865,\n",
       " 'ftp2': 41730,\n",
       " 'aad9c1e0': 16079,\n",
       " '48v': 7994,\n",
       " 'dirk': 33756,\n",
       " 'perpetrate': 70585,\n",
       " 'qiwf': 74622,\n",
       " 'propitiation': 73413,\n",
       " 'waxed': 95670,\n",
       " 'chzrb_': 27286,\n",
       " '38u': 6756,\n",
       " 'xid': 98206,\n",
       " 'manley': 59364,\n",
       " 'incidentally': 49397,\n",
       " 'ior': 50748,\n",
       " 'zu': 101172,\n",
       " 'lies': 56525,\n",
       " '518': 8704,\n",
       " '01001111b': 280,\n",
       " 'bumpers': 24585,\n",
       " 'surveyed': 86421,\n",
       " '11110101': 2041,\n",
       " 'moditor': 62655,\n",
       " 'skinny': 82896,\n",
       " 'manuverable': 59425,\n",
       " '_rear_': 15486,\n",
       " 'xsm': 98664,\n",
       " 'evalute': 38144,\n",
       " 'b2tt': 20981,\n",
       " 'mcua8cx_sc_': 60302,\n",
       " 'tetrahedral': 88160,\n",
       " 'hx2': 47834,\n",
       " '38101': 6703,\n",
       " 'brian_propp': 24095,\n",
       " 'aggravated': 17320,\n",
       " 'kcs': 53622,\n",
       " '42eb7fm1': 7629,\n",
       " 'glasse': 43499,\n",
       " '20mbit': 4464,\n",
       " 'speedware': 84108,\n",
       " 'journeyed': 52501,\n",
       " '2m0h9_': 5648,\n",
       " 'jz3s5': 52991,\n",
       " 'mqp_s': 63348,\n",
       " 'macconnection': 58798,\n",
       " 'gipu': 43358,\n",
       " 'leu': 56192,\n",
       " 'steer': 85048,\n",
       " '0791': 761,\n",
       " 'nonexperimental': 66179,\n",
       " 'necromancer': 65155,\n",
       " 'mea': 60442,\n",
       " 'aspipat': 19862,\n",
       " '2664': 5044,\n",
       " 'scissors': 80757,\n",
       " 'caution': 26060,\n",
       " 'unorthodox': 92049,\n",
       " '60mv': 9832,\n",
       " '80486': 12314,\n",
       " '5889': 9096,\n",
       " '8s6ax': 13241,\n",
       " 'd8s': 31527,\n",
       " 'ht6hgw': 47558,\n",
       " 'zqt': 101043,\n",
       " 'amour': 18309,\n",
       " 'fij7': 40193,\n",
       " 'zgw': 100673,\n",
       " 's16u': 79651,\n",
       " 'xtappwarningmsg': 98730,\n",
       " 'monies': 62807,\n",
       " 'ibmlink': 48361,\n",
       " 'reinventing': 76951,\n",
       " 'v93w': 93171,\n",
       " 'teleuse': 87896,\n",
       " '822': 12442,\n",
       " 'rifled': 78183,\n",
       " '23ln': 4741,\n",
       " '5415': 8825,\n",
       " 'cgtwelve': 26554,\n",
       " 'austron': 20448,\n",
       " 'applaud': 19091,\n",
       " 'tighter': 88797,\n",
       " 'implimentations': 49204,\n",
       " 'blinker': 23155,\n",
       " 'preoccupation': 72768,\n",
       " '396': 6779,\n",
       " 'mj9x': 62081,\n",
       " 'youy': 99934,\n",
       " 'communites': 28607,\n",
       " 'charismatic': 26726,\n",
       " 'coppersmith': 29765,\n",
       " 'jocks': 52362,\n",
       " '2tu': 5918,\n",
       " '2e30': 5452,\n",
       " 'citecuc': 27476,\n",
       " 'clinched': 27833,\n",
       " 'knots': 54493,\n",
       " 'o4t2': 66989,\n",
       " 'conversion': 29635,\n",
       " 'm_x4r': 58732,\n",
       " 'trained': 89601,\n",
       " 'visitors': 94232,\n",
       " 'vojak': 94480,\n",
       " 'geometric': 43037,\n",
       " '3v9f0': 7374,\n",
       " 'twelfth': 90475,\n",
       " '_bw7jl': 14909,\n",
       " '6e6': 10525,\n",
       " 'e878g6': 35798,\n",
       " 'liberating': 56434,\n",
       " 'xtoverridetranslations': 98905,\n",
       " 'ngwt': 65665,\n",
       " 'usw3r6t3p': 92698,\n",
       " 'headrest': 45948,\n",
       " 'surveillance': 86417,\n",
       " 'discovering': 33916,\n",
       " 'uac': 90884,\n",
       " 'kaminski': 53381,\n",
       " 't_look': 87254,\n",
       " '11dec89': 2206,\n",
       " '0nds8': 1151,\n",
       " 'lgm': 56314,\n",
       " 'tz5po': 90628,\n",
       " '90247': 13412,\n",
       " 'uncovered': 91541,\n",
       " 'conical': 29194,\n",
       " '___': 14692,\n",
       " 'zqe1': 101027,\n",
       " 'student': 85616,\n",
       " 'jason': 51803,\n",
       " 'sneaked': 83369,\n",
       " 'j49': 51518,\n",
       " 'dxri': 35558,\n",
       " 'wps': 97081,\n",
       " '24': 4749,\n",
       " 'lamp': 55421,\n",
       " 'fews': 39978,\n",
       " 'aggravating': 17321,\n",
       " 'stdarg': 85011,\n",
       " 'steven': 85171,\n",
       " 'mentor': 60817,\n",
       " 'u7': 90799,\n",
       " 'bjorn': 22986,\n",
       " '290': 5242,\n",
       " 'wa': 95297,\n",
       " '291v': 5258,\n",
       " 'theos': 88385,\n",
       " 'lk81': 56951,\n",
       " '0s2': 1252,\n",
       " 'univision': 91950,\n",
       " 'pitfall': 71371,\n",
       " 'orwellian': 68481,\n",
       " 'screw': 80888,\n",
       " '06': 675,\n",
       " 'co58': 28079,\n",
       " 'cameras': 25501,\n",
       " 'pbmtext': 70123,\n",
       " '1290': 2379,\n",
       " 'tektronix': 87843,\n",
       " 'jjm': 52239,\n",
       " 'nup': 66713,\n",
       " 'inexpencive': 49697,\n",
       " '2etc': 5469,\n",
       " 'differed': 33537,\n",
       " 'arcas': 19356,\n",
       " 'emile': 36909,\n",
       " 'initialize': 49941,\n",
       " 'cua8': 30843,\n",
       " 'yzit': 100185,\n",
       " '5k': 9403,\n",
       " 'ah6k': 17403,\n",
       " 'macabre': 58781,\n",
       " 'hi83n': 46475,\n",
       " 'iph7': 50782,\n",
       " 'nocturnal': 66104,\n",
       " '6900': 10346,\n",
       " '4yk9': 8558,\n",
       " 'seaports': 81084,\n",
       " 'fluctutations': 40766,\n",
       " 'sparcstaton': 83947,\n",
       " 'mjm': 62120,\n",
       " 'ittle': 51267,\n",
       " 'asylum': 20082,\n",
       " 'rexi': 77977,\n",
       " 'a2du6': 15830,\n",
       " '51x924': 8720,\n",
       " 'kaplan': 53415,\n",
       " 'chafee': 26576,\n",
       " 'jafar': 51703,\n",
       " 'xtfree': 98787,\n",
       " '256pin': 4946,\n",
       " 'automobili': 20533,\n",
       " '220cdn': 4578,\n",
       " 'windowmanagername': 96460,\n",
       " 'fekete': 39831,\n",
       " 'schweigler': 80727,\n",
       " 'ggc1': 43199,\n",
       " 'dam': 31651,\n",
       " '12c65': 2396,\n",
       " 'disposing': 34131,\n",
       " 'betty': 22480,\n",
       " 'pathnames': 69979,\n",
       " 'blueline': 23258,\n",
       " 'eec': 36261,\n",
       " 'modern': 62629,\n",
       " '7rll': 12098,\n",
       " 'monk': 62818,\n",
       " 'bugunlerde': 24499,\n",
       " 'carbo': 25733,\n",
       " '5th': 9618,\n",
       " 'redecorate': 76586,\n",
       " 'ponies': 72118,\n",
       " 'ashtrays': 19806,\n",
       " 'hcra': 45875,\n",
       " 'bolsters': 23497,\n",
       " 'j7f_4k': 51586,\n",
       " '9pd': 14326,\n",
       " 'hydfg9': 47859,\n",
       " 'xuqs4u': 99006,\n",
       " 'jviv': 52904,\n",
       " 'm9f8qax': 58632,\n",
       " 'aips': 17529,\n",
       " 'anyhting': 18887,\n",
       " 'tsv': 90210,\n",
       " 'hasanali': 45694,\n",
       " 'messianic': 60940,\n",
       " 'qo': 74744,\n",
       " 'mistreat': 61981,\n",
       " 'djk_ny': 34384,\n",
       " 'xtrude': 98939,\n",
       " 'czcs': 31305,\n",
       " 'x8i': 97670,\n",
       " 'kjtws': 54283,\n",
       " 'bceqq4': 21895,\n",
       " 'disbelieving': 33836,\n",
       " 'repudiation': 77445,\n",
       " 'handset': 45469,\n",
       " 'fcj74x': 39646,\n",
       " 'sunday': 86123,\n",
       " 'optometry': 68178,\n",
       " 'rtwh': 79276,\n",
       " 'mizraim': 62054,\n",
       " 'anan': 18456,\n",
       " 'sublime': 85755,\n",
       " 'testbeds': 88131,\n",
       " 'mx20p': 64226,\n",
       " 'tagblatt': 87332,\n",
       " 'mygc': 64317,\n",
       " 'stinson': 85240,\n",
       " 'dreamed': 35023,\n",
       " 'coe': 28176,\n",
       " 'carpal': 25838,\n",
       " 'bloodcount': 23211,\n",
       " 'hymn': 47883,\n",
       " 'mullins': 63807,\n",
       " 'dear': 32105,\n",
       " 'electrac': 36609,\n",
       " 'axlo': 20815,\n",
       " 'lgkuiu7l1': 56313,\n",
       " 'programmeert': 73236,\n",
       " 'filecascade': 40224,\n",
       " 'maker': 59162,\n",
       " 'livable': 56867,\n",
       " 'f001r': 38934,\n",
       " 'plot3d': 71709,\n",
       " 'g03ns4': 42132,\n",
       " 'beluisteren': 22276,\n",
       " 'cristy': 30463,\n",
       " 'acquistion': 16652,\n",
       " 'aps': 19233,\n",
       " 'codings': 28174,\n",
       " 'v0q': 92992,\n",
       " 'discwasher': 33955,\n",
       " 'qualit': 74989,\n",
       " 'lx': 57807,\n",
       " 'pixutils': 71421,\n",
       " 'resul': 77722,\n",
       " 'o32di': 66966,\n",
       " 'e9x': 35841,\n",
       " '1316': 2448,\n",
       " 'bandits': 21504,\n",
       " 'cmcc': 27998,\n",
       " 'mkh': 62200,\n",
       " 'claredon': 27665,\n",
       " '10101101': 1651,\n",
       " 'combnation': 28435,\n",
       " '53zt': 8817,\n",
       " 'pyatigorsk': 74159,\n",
       " '145k16w': 2684,\n",
       " 'stip': 85242,\n",
       " 'izi': 51389,\n",
       " 'laryngitis': 55568,\n",
       " 'pbx': 70138,\n",
       " 'waffen': 95352,\n",
       " 'http': 47573,\n",
       " 'osu': 68580,\n",
       " 'tao': 87495,\n",
       " 'hostage': 47263,\n",
       " 'elevates': 36666,\n",
       " 'druhi': 35135,\n",
       " 'ky7': 55005,\n",
       " 'bib': 22644,\n",
       " '_l': 15228,\n",
       " '62d': 9946,\n",
       " 'tabernacle': 87275,\n",
       " 'msdos_uploads': 63565,\n",
       " '01101010b': 338,\n",
       " '34lqvg': 6464,\n",
       " 'newcd': 65493,\n",
       " 'wimped': 96425,\n",
       " '014': 393,\n",
       " 'furthering': 41910,\n",
       " 'quan': 74999,\n",
       " 'diskwriter': 34021,\n",
       " 'energetically': 37171,\n",
       " 'skidded': 82872,\n",
       " 'dithering': 34284,\n",
       " 'uxjwz4': 92930,\n",
       " 'lewdly': 56237,\n",
       " 'z6c36s': 100308,\n",
       " 'hinges': 46628,\n",
       " 'pleistocene': 71671,\n",
       " '22623u': 4631,\n",
       " 'questionnaires': 75094,\n",
       " '53051': 8773,\n",
       " 'saddled': 79993,\n",
       " 'ioerror': 50738,\n",
       " '2tp': 5912,\n",
       " 'pedieos': 70286,\n",
       " 'accelerating': 16391,\n",
       " 'emin': 36911,\n",
       " 'semyon': 81371,\n",
       " 'moderates': 62624,\n",
       " 'wd1003': 95743,\n",
       " 'ssr': 84671,\n",
       " 'joys': 52521,\n",
       " 'navigating': 64949,\n",
       " '018': 405,\n",
       " 'wod': 96832,\n",
       " 'ysagu': 99995,\n",
       " 'seams': 81078,\n",
       " 'kste': 54844,\n",
       " 'xian': 98195,\n",
       " '7vf': 12189,\n",
       " 'forte': 41204,\n",
       " 'fs3m1uh': 41678,\n",
       " 'washington': 95583,\n",
       " 'hjy': 46739,\n",
       " 'gtz': 44589,\n",
       " 'cle': 27736,\n",
       " 'harmon': 45631,\n",
       " 'baton': 21781,\n",
       " 'khlebof': 53993,\n",
       " 'n0_': 64462,\n",
       " '65d': 10137,\n",
       " 'rodolf': 78812,\n",
       " 'mhr': 61314,\n",
       " '1tbl': 4132,\n",
       " 'rl12p': 78431,\n",
       " 'uncomplete': 91500,\n",
       " 'uchicago': 90970,\n",
       " 'drugs': 35133,\n",
       " 'rjgz9w8v': 78370,\n",
       " 'equivalents': 37624,\n",
       " 'round': 79038,\n",
       " '145secq': 2703,\n",
       " 'cdplist': 26239,\n",
       " 'ubbpc': 90920,\n",
       " 'archery': 19371,\n",
       " 'bacon': 21315,\n",
       " 'inevitably': 49693,\n",
       " '_ia7': 15152,\n",
       " '0028': 190,\n",
       " 'rug': 79333,\n",
       " 'ogi': 67594,\n",
       " 'servotronic': 81581,\n",
       " 'neutralizing': 65442,\n",
       " '63e9': 10005,\n",
       " '103ii': 1766,\n",
       " 'dual': 35259,\n",
       " '817481': 12411,\n",
       " 'nuvml': 66757,\n",
       " 'mearly': 60468,\n",
       " 'whith': 96226,\n",
       " 'kamandi': 53371,\n",
       " 'isrci': 51139,\n",
       " 'menschen': 60804,\n",
       " 'peter_forsberg': 70719,\n",
       " '1e_': 3714,\n",
       " 'jyp': 52979,\n",
       " '03': 512,\n",
       " 'relived': 77089,\n",
       " '4quna': 8398,\n",
       " 'canvas': 25636,\n",
       " 'rambo': 75774,\n",
       " 'ls7': 57539,\n",
       " 'hulse': 47636,\n",
       " '7_c': 11784,\n",
       " 'trends': 89896,\n",
       " '55555555559': 8911,\n",
       " 'sportswriting': 84327,\n",
       " 'anastasios': 18470,\n",
       " 'ingoring': 49876,\n",
       " 'definition': 32463,\n",
       " 'borque': 23667,\n",
       " 'ok6': 67689,\n",
       " '7801': 11698,\n",
       " 'zsfkh': 101142,\n",
       " 'okzznkjzokzysdy': 67732,\n",
       " '5xu': 9736,\n",
       " '34lqrpl': 6457,\n",
       " 'fk': 40502,\n",
       " 'x00z': 97443,\n",
       " 'foolish': 40998,\n",
       " 'actuated': 16720,\n",
       " 'eidetic': 36452,\n",
       " 'v32bis': 93041,\n",
       " 'jiam': 52121,\n",
       " 'clunking': 27965,\n",
       " 'nb8f75u': 64988,\n",
       " 'tsn': 90197,\n",
       " 'xtal': 98699,\n",
       " 'veeery': 93630,\n",
       " 'bgocbn': 22552,\n",
       " 'lg2': 56298,\n",
       " 'm147': 58011,\n",
       " 'unambiguously': 91397,\n",
       " '28g8a8rme_73': 5219,\n",
       " 'tds320': 87718,\n",
       " 'monopolism': 62850,\n",
       " 'god': 43734,\n",
       " 'lhe': 56331,\n",
       " 'penalty': 70366,\n",
       " '2d1': 5394,\n",
       " 'kidnapping': 54058,\n",
       " '9ffak': 14137,\n",
       " 'seperable': 81465,\n",
       " 'perry': 70606,\n",
       " 'handier': 45449,\n",
       " 'unneccessary': 92028,\n",
       " '8xqa95': 13338,\n",
       " ...}"
      ]
     },
     "execution_count": 44,
     "metadata": {},
     "output_type": "execute_result"
    }
   ],
   "source": [
    "# We can also look at the vocabulary itself, and the column index each word corresponds to\n",
    "# in the training and test data\n",
    "vectorizer.vocabulary_"
   ]
  },
  {
   "cell_type": "code",
   "execution_count": 45,
   "metadata": {
    "collapsed": false
   },
   "outputs": [
    {
     "data": {
      "text/plain": [
       "<1x101323 sparse matrix of type '<class 'numpy.int64'>'\n",
       "\twith 34 stored elements in Compressed Sparse Row format>"
      ]
     },
     "execution_count": 45,
     "metadata": {},
     "output_type": "execute_result"
    }
   ],
   "source": [
    "# As we mentioned, most words aren't used in most posts, so each row of the training set\n",
    "# will be very sparse -very few entries will be bigger than zero.\n",
    "# When Python sees his kind of sparsity, it uses a sparse matrix, which conceptually is just a matrix,\n",
    "# but instead of storing every entry in the matrix, Python only stores the non-zero entries.  \n",
    "X_train[0, :]"
   ]
  },
  {
   "cell_type": "code",
   "execution_count": 46,
   "metadata": {
    "collapsed": false
   },
   "outputs": [
    {
     "data": {
      "text/plain": [
       "matrix([[0, 0, 0, ..., 0, 0, 0]], dtype=int64)"
      ]
     },
     "execution_count": 46,
     "metadata": {},
     "output_type": "execute_result"
    }
   ],
   "source": [
    "# However, if we want to see the first row of the training data, we can convert the sparse representation \n",
    "# to a dense representation (fills in all the empty positions with zeros)\n",
    "X_train[0, :].todense()"
   ]
  },
  {
   "cell_type": "code",
   "execution_count": 47,
   "metadata": {
    "collapsed": false
   },
   "outputs": [
    {
     "data": {
      "text/plain": [
       "array([ 9843, 11174, 16806, 23430, 24108, 24583, 25437, 25717, 31927,\n",
       "       34741, 34742, 35902, 37208, 37256, 41875, 46691, 49801, 54494,\n",
       "       55607, 57248, 57251, 59072, 62595, 73175, 76270, 77677, 80421,\n",
       "       81451, 83209, 84051, 84313, 87914, 96880, 99609], dtype=int64)"
      ]
     },
     "execution_count": 47,
     "metadata": {},
     "output_type": "execute_result"
    }
   ],
   "source": [
    "# We can also find the non-zero entries for our first training observations\n",
    "non_zeroes=np.where(X_train[0,:].todense())[1]\n",
    "non_zeroes"
   ]
  },
  {
   "cell_type": "markdown",
   "metadata": {},
   "source": [
    "Let's define a function that will take a list of indices and print the words from the vocabulary dictionary that correspond to those indices:"
   ]
  },
  {
   "cell_type": "code",
   "execution_count": 48,
   "metadata": {
    "collapsed": false
   },
   "outputs": [
    {
     "ename": "SyntaxError",
     "evalue": "Missing parentheses in call to 'print' (<ipython-input-48-0d3e3eb5cc4f>, line 4)",
     "output_type": "error",
     "traceback": [
      "\u001b[1;36m  File \u001b[1;32m\"<ipython-input-48-0d3e3eb5cc4f>\"\u001b[1;36m, line \u001b[1;32m4\u001b[0m\n\u001b[1;33m    print word\u001b[0m\n\u001b[1;37m             ^\u001b[0m\n\u001b[1;31mSyntaxError\u001b[0m\u001b[1;31m:\u001b[0m Missing parentheses in call to 'print'\n"
     ]
    }
   ],
   "source": [
    "def print_words(index_list):\n",
    "    for word, index in vectorizer.vocabulary_.iteritems(): # Check every word in the vocabulary\n",
    "        if index in index_list: # If that word appears in our list for the given observation, write out the word\n",
    "            print word"
   ]
  },
  {
   "cell_type": "code",
   "execution_count": null,
   "metadata": {
    "collapsed": false
   },
   "outputs": [],
   "source": [
    "print_words(non_zeroes)"
   ]
  },
  {
   "cell_type": "markdown",
   "metadata": {},
   "source": [
    "Let's train a linear, penalized SVM:"
   ]
  },
  {
   "cell_type": "code",
   "execution_count": null,
   "metadata": {
    "collapsed": false
   },
   "outputs": [],
   "source": [
    "svm = LinearSVC(penalty='l2', C=1.0) # Setting penalty to 'l2' makes LinearSVC act like SVC\n",
    "svm.fit(X_train, space_target)"
   ]
  },
  {
   "cell_type": "markdown",
   "metadata": {},
   "source": [
    "One way to see what the SVM is doing is to look at the coefficients of each word, and to sort them from largest to smallest.  This will tell us which words are most associated with \"space\" in the posts:"
   ]
  },
  {
   "cell_type": "code",
   "execution_count": null,
   "metadata": {
    "collapsed": false
   },
   "outputs": [],
   "source": [
    "# svm.coef_.ravel() gives the list of coefficients from the SVM as a 1-dimensional array\n",
    "# Apply np.argsort to that list orders the **indices** of that list in order of smallest coefficient to largest\n",
    "# Then, the [-25:] tells Python to take the last 25 indices from that ordered list, which correspond to the indices\n",
    "# of the 25 biggest coefficients.\n",
    "top25 = np.argsort(svm.coef_.ravel())[-25:]\n",
    "top25"
   ]
  },
  {
   "cell_type": "code",
   "execution_count": null,
   "metadata": {
    "collapsed": false
   },
   "outputs": [],
   "source": [
    "# Now, we'll show the 25 biggest coefficients\n",
    "svm.coef_.ravel()[top25]"
   ]
  },
  {
   "cell_type": "code",
   "execution_count": null,
   "metadata": {
    "collapsed": false
   },
   "outputs": [],
   "source": [
    "# Finally, we can print the top 25 coefficients\n",
    "print_words(top25)"
   ]
  },
  {
   "cell_type": "markdown",
   "metadata": {},
   "source": [
    "[http://en.wikipedia.org/wiki/Wally_Schirra](http://en.wikipedia.org/wiki/Wally_Schirra)"
   ]
  },
  {
   "cell_type": "markdown",
   "metadata": {},
   "source": [
    "Let's see how we do predicting whether or not a message is from the 'space' messge board for a test set:"
   ]
  },
  {
   "cell_type": "code",
   "execution_count": null,
   "metadata": {
    "collapsed": false
   },
   "outputs": [],
   "source": [
    "preds = svm.predict(X_test)"
   ]
  },
  {
   "cell_type": "code",
   "execution_count": null,
   "metadata": {
    "collapsed": false
   },
   "outputs": [],
   "source": [
    "pd.crosstab(index=space_target_test, columns=preds, rownames=['True'], colnames=['Predicted'])"
   ]
  },
  {
   "cell_type": "markdown",
   "metadata": {
    "collapsed": false
   },
   "source": [
    "Not bad."
   ]
  }
 ],
 "metadata": {
  "kernelspec": {
   "display_name": "Python 3",
   "language": "python",
   "name": "python3"
  },
  "language_info": {
   "codemirror_mode": {
    "name": "ipython",
    "version": 3
   },
   "file_extension": ".py",
   "mimetype": "text/x-python",
   "name": "python",
   "nbconvert_exporter": "python",
   "pygments_lexer": "ipython3",
   "version": "3.5.2"
  }
 },
 "nbformat": 4,
 "nbformat_minor": 0
}
