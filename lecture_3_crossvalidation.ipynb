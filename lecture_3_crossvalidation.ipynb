{
 "cells": [
  {
   "cell_type": "markdown",
   "metadata": {},
   "source": [
    "# Lecture 3: Train/Test and Cross-Validation"
   ]
  },
  {
   "cell_type": "markdown",
   "metadata": {},
   "source": [
    "In this notebook, we'll see how to create train/test splits in python.  We'll also see the `GridSearchCV` function, which is a very simple way to do cross-validation to select tuneable parameters."
   ]
  },
  {
   "cell_type": "code",
   "execution_count": 1,
   "metadata": {
    "collapsed": false
   },
   "outputs": [],
   "source": [
    "%matplotlib inline"
   ]
  },
  {
   "cell_type": "code",
   "execution_count": 8,
   "metadata": {
    "collapsed": false
   },
   "outputs": [],
   "source": [
    "import matplotlib.pyplot as plt\n",
    "import seaborn as sns\n",
    "from sklearn.neighbors import KNeighborsClassifier # Import k-nearest neighbors\n",
    "from sklearn.metrics import roc_curve, roc_auc_score # Import functions to measure classification error\n",
    "from sklearn.cross_validation import train_test_split # Import functionality to implement the validation set approach\n",
    "from sklearn.grid_search import GridSearchCV # Import GridSearchCV, for cross-validation\n",
    "import numpy as np\n",
    "import pandas as pd"
   ]
  },
  {
   "cell_type": "markdown",
   "metadata": {},
   "source": [
    "Let's read in the \"Hitters\" dataset from ISLR that has information on baseball players, their stats, and their salaries.  Also, we'll drop any rows with missing values."
   ]
  },
  {
   "cell_type": "code",
   "execution_count": 10,
   "metadata": {
    "collapsed": false
   },
   "outputs": [
    {
     "data": {
      "text/html": [
       "<div>\n",
       "<table border=\"1\" class=\"dataframe\">\n",
       "  <thead>\n",
       "    <tr style=\"text-align: right;\">\n",
       "      <th></th>\n",
       "      <th>AtBat</th>\n",
       "      <th>Hits</th>\n",
       "      <th>HmRun</th>\n",
       "      <th>Runs</th>\n",
       "      <th>RBI</th>\n",
       "      <th>Walks</th>\n",
       "      <th>Years</th>\n",
       "      <th>CAtBat</th>\n",
       "      <th>CHits</th>\n",
       "      <th>CHmRun</th>\n",
       "      <th>CRuns</th>\n",
       "      <th>CRBI</th>\n",
       "      <th>CWalks</th>\n",
       "      <th>League</th>\n",
       "      <th>Division</th>\n",
       "      <th>PutOuts</th>\n",
       "      <th>Assists</th>\n",
       "      <th>Errors</th>\n",
       "      <th>Salary</th>\n",
       "      <th>NewLeague</th>\n",
       "    </tr>\n",
       "  </thead>\n",
       "  <tbody>\n",
       "    <tr>\n",
       "      <th>1</th>\n",
       "      <td>315</td>\n",
       "      <td>81</td>\n",
       "      <td>7</td>\n",
       "      <td>24</td>\n",
       "      <td>38</td>\n",
       "      <td>39</td>\n",
       "      <td>14</td>\n",
       "      <td>3449</td>\n",
       "      <td>835</td>\n",
       "      <td>69</td>\n",
       "      <td>321</td>\n",
       "      <td>414</td>\n",
       "      <td>375</td>\n",
       "      <td>N</td>\n",
       "      <td>W</td>\n",
       "      <td>632</td>\n",
       "      <td>43</td>\n",
       "      <td>10</td>\n",
       "      <td>475.0</td>\n",
       "      <td>N</td>\n",
       "    </tr>\n",
       "    <tr>\n",
       "      <th>2</th>\n",
       "      <td>479</td>\n",
       "      <td>130</td>\n",
       "      <td>18</td>\n",
       "      <td>66</td>\n",
       "      <td>72</td>\n",
       "      <td>76</td>\n",
       "      <td>3</td>\n",
       "      <td>1624</td>\n",
       "      <td>457</td>\n",
       "      <td>63</td>\n",
       "      <td>224</td>\n",
       "      <td>266</td>\n",
       "      <td>263</td>\n",
       "      <td>A</td>\n",
       "      <td>W</td>\n",
       "      <td>880</td>\n",
       "      <td>82</td>\n",
       "      <td>14</td>\n",
       "      <td>480.0</td>\n",
       "      <td>A</td>\n",
       "    </tr>\n",
       "    <tr>\n",
       "      <th>3</th>\n",
       "      <td>496</td>\n",
       "      <td>141</td>\n",
       "      <td>20</td>\n",
       "      <td>65</td>\n",
       "      <td>78</td>\n",
       "      <td>37</td>\n",
       "      <td>11</td>\n",
       "      <td>5628</td>\n",
       "      <td>1575</td>\n",
       "      <td>225</td>\n",
       "      <td>828</td>\n",
       "      <td>838</td>\n",
       "      <td>354</td>\n",
       "      <td>N</td>\n",
       "      <td>E</td>\n",
       "      <td>200</td>\n",
       "      <td>11</td>\n",
       "      <td>3</td>\n",
       "      <td>500.0</td>\n",
       "      <td>N</td>\n",
       "    </tr>\n",
       "    <tr>\n",
       "      <th>4</th>\n",
       "      <td>321</td>\n",
       "      <td>87</td>\n",
       "      <td>10</td>\n",
       "      <td>39</td>\n",
       "      <td>42</td>\n",
       "      <td>30</td>\n",
       "      <td>2</td>\n",
       "      <td>396</td>\n",
       "      <td>101</td>\n",
       "      <td>12</td>\n",
       "      <td>48</td>\n",
       "      <td>46</td>\n",
       "      <td>33</td>\n",
       "      <td>N</td>\n",
       "      <td>E</td>\n",
       "      <td>805</td>\n",
       "      <td>40</td>\n",
       "      <td>4</td>\n",
       "      <td>91.5</td>\n",
       "      <td>N</td>\n",
       "    </tr>\n",
       "    <tr>\n",
       "      <th>5</th>\n",
       "      <td>594</td>\n",
       "      <td>169</td>\n",
       "      <td>4</td>\n",
       "      <td>74</td>\n",
       "      <td>51</td>\n",
       "      <td>35</td>\n",
       "      <td>11</td>\n",
       "      <td>4408</td>\n",
       "      <td>1133</td>\n",
       "      <td>19</td>\n",
       "      <td>501</td>\n",
       "      <td>336</td>\n",
       "      <td>194</td>\n",
       "      <td>A</td>\n",
       "      <td>W</td>\n",
       "      <td>282</td>\n",
       "      <td>421</td>\n",
       "      <td>25</td>\n",
       "      <td>750.0</td>\n",
       "      <td>A</td>\n",
       "    </tr>\n",
       "  </tbody>\n",
       "</table>\n",
       "</div>"
      ],
      "text/plain": [
       "   AtBat  Hits  HmRun  Runs  RBI  Walks  Years  CAtBat  CHits  CHmRun  CRuns  \\\n",
       "1    315    81      7    24   38     39     14    3449    835      69    321   \n",
       "2    479   130     18    66   72     76      3    1624    457      63    224   \n",
       "3    496   141     20    65   78     37     11    5628   1575     225    828   \n",
       "4    321    87     10    39   42     30      2     396    101      12     48   \n",
       "5    594   169      4    74   51     35     11    4408   1133      19    501   \n",
       "\n",
       "   CRBI  CWalks League Division  PutOuts  Assists  Errors  Salary NewLeague  \n",
       "1   414     375      N        W      632       43      10   475.0         N  \n",
       "2   266     263      A        W      880       82      14   480.0         A  \n",
       "3   838     354      N        E      200       11       3   500.0         N  \n",
       "4    46      33      N        E      805       40       4    91.5         N  \n",
       "5   336     194      A        W      282      421      25   750.0         A  "
      ]
     },
     "execution_count": 10,
     "metadata": {},
     "output_type": "execute_result"
    }
   ],
   "source": [
    "hitters = pd.read_csv(\"./hitters.csv\")\n",
    "hitters = hitters.dropna()\n",
    "hitters.head()"
   ]
  },
  {
   "cell_type": "markdown",
   "metadata": {},
   "source": [
    "We'll get rid of a few categorical columns rather than deal with converting them.  Then we'll create a binary variable for whether a player makes more than the median salary."
   ]
  },
  {
   "cell_type": "code",
   "execution_count": 4,
   "metadata": {
    "collapsed": false
   },
   "outputs": [],
   "source": [
    "X = np.array(hitters.drop([\"Salary\", \"League\", \"Division\", \"NewLeague\"], axis=1))\n",
    "y = (hitters[\"Salary\"] >= np.median(hitters[\"Salary\"])).astype(\"int\")"
   ]
  },
  {
   "cell_type": "markdown",
   "metadata": {},
   "source": [
    "# The Validation Set Approach\n",
    "Creating a training/testing split is extremely simple."
   ]
  },
  {
   "cell_type": "code",
   "execution_count": 5,
   "metadata": {
    "collapsed": false
   },
   "outputs": [],
   "source": [
    "X_train, X_test, y_train, y_test = train_test_split(X, y, train_size=0.7, random_state=10)"
   ]
  },
  {
   "cell_type": "code",
   "execution_count": 6,
   "metadata": {
    "collapsed": false
   },
   "outputs": [
    {
     "name": "stdout",
     "output_type": "stream",
     "text": [
      "(184L, 16L)\n",
      "(79L, 16L)\n"
     ]
    }
   ],
   "source": [
    "print X_train.shape\n",
    "print X_test.shape"
   ]
  },
  {
   "cell_type": "code",
   "execution_count": 7,
   "metadata": {
    "collapsed": false
   },
   "outputs": [
    {
     "data": {
      "text/plain": [
       "array([[496, 119,   8, ..., 155, 371,  29],\n",
       "       [317,  78,   7, ...,  45, 122,  26],\n",
       "       [343, 103,   6, ..., 211,  56,  13],\n",
       "       ..., \n",
       "       [616, 163,  27, ..., 110, 308,  15],\n",
       "       [190,  46,   2, ..., 102, 177,  16],\n",
       "       [165,  39,   2, ..., 332,  19,   2]], dtype=int64)"
      ]
     },
     "execution_count": 7,
     "metadata": {},
     "output_type": "execute_result"
    }
   ],
   "source": [
    "X_train"
   ]
  },
  {
   "cell_type": "markdown",
   "metadata": {},
   "source": [
    "Next, we'll fit a logistic regression model to the training data and score the test data:"
   ]
  },
  {
   "cell_type": "code",
   "execution_count": 14,
   "metadata": {
    "collapsed": false
   },
   "outputs": [],
   "source": [
    "kNN = KNeighborsClassifier(n_neighbors=6) # Construct the nearest neighbors classifier, with 3 neighbors\n",
    "kNN.fit(X_train, y_train) # Fit the nearest neighbors classifier on the training data\n",
    "\n",
    "test_preds = kNN.predict_proba(X_test)[:, 1] # Predict on the test set, outputting probability of salary > median"
   ]
  },
  {
   "cell_type": "markdown",
   "metadata": {},
   "source": [
    "Next, let's create the ROC curve."
   ]
  },
  {
   "cell_type": "code",
   "execution_count": 15,
   "metadata": {
    "collapsed": false
   },
   "outputs": [],
   "source": [
    "fpr, tpr, thresholds = roc_curve(y_test, test_preds)"
   ]
  },
  {
   "cell_type": "code",
   "execution_count": 16,
   "metadata": {
    "collapsed": false
   },
   "outputs": [
    {
     "data": {
      "image/png": "[encoded data removed]",
      "text/plain": [
       "<matplotlib.figure.Figure at 0xb815668>"
      ]
     },
     "metadata": {},
     "output_type": "display_data"
    }
   ],
   "source": [
    "# we want to draw the random baseline ROC line too\n",
    "fpr_rand = tpr_rand = np.linspace(0, 1, 10)\n",
    "\n",
    "plt.plot(fpr, tpr)\n",
    "plt.plot(fpr_rand, tpr_rand, linestyle='--')\n",
    "plt.show()"
   ]
  },
  {
   "cell_type": "code",
   "execution_count": 17,
   "metadata": {
    "collapsed": false
   },
   "outputs": [
    {
     "data": {
      "text/plain": [
       "0.83655083655083662"
      ]
     },
     "execution_count": 17,
     "metadata": {},
     "output_type": "execute_result"
    }
   ],
   "source": [
    "roc_auc_score(y_test, test_preds)"
   ]
  },
  {
   "cell_type": "markdown",
   "metadata": {},
   "source": [
    "If we re-run the train/test split, we'll see the variability in this estimate."
   ]
  },
  {
   "cell_type": "markdown",
   "metadata": {},
   "source": [
    "We can use the test set (which, in this case, should really be called a validation set) to choose the best value of $k$, the number of neighbors in our k-nearest neighbors model."
   ]
  },
  {
   "cell_type": "code",
   "execution_count": 18,
   "metadata": {
    "collapsed": false
   },
   "outputs": [
    {
     "name": "stderr",
     "output_type": "stream",
     "text": [
      "C:\\Anaconda\\lib\\site-packages\\sklearn\\externals\\joblib\\parallel.py:131: VisibleDeprecationWarning: using a non-integer number instead of an integer will result in an error in the future\n",
      "  return [func(*args, **kwargs) for func, args, kwargs in self.items]\n"
     ]
    }
   ],
   "source": [
    "# We will create a k-nearest neighbors classifier for k=1,2,...,15\n",
    "# We'll fit each classifier on the training set, then calculate\n",
    "# out-of-sample AUC on the validation set.\n",
    "k_vals = np.linspace(1,15,15)\n",
    "\n",
    "aucs = []\n",
    "for k_val in k_vals:\n",
    "    kNN = KNeighborsClassifier(n_neighbors=k_val)\n",
    "    kNN.fit(X_train, y_train)\n",
    "\n",
    "    test_preds = kNN.predict_proba(X_test)[:, 1] # Retrieve just the probability of salary > median\n",
    "    aucs.append(roc_auc_score(y_test, test_preds)) # Store the AUC for the current classifier"
   ]
  },
  {
   "cell_type": "code",
   "execution_count": 19,
   "metadata": {
    "collapsed": false
   },
   "outputs": [
    {
     "data": {
      "text/plain": [
       "[0.806949806949807,\n",
       " 0.86261261261261257,\n",
       " 0.87612612612612617,\n",
       " 0.86872586872586866,\n",
       " 0.84716859716859716,\n",
       " 0.83655083655083662,\n",
       " 0.83912483912483926,\n",
       " 0.8285070785070785,\n",
       " 0.82722007722007729,\n",
       " 0.82818532818532831,\n",
       " 0.82593307593307608,\n",
       " 0.82915057915057921,\n",
       " 0.83172458172458175,\n",
       " 0.83815958815958824,\n",
       " 0.83043758043758042]"
      ]
     },
     "execution_count": 19,
     "metadata": {},
     "output_type": "execute_result"
    }
   ],
   "source": [
    "# Look at the AUC's\n",
    "aucs"
   ]
  },
  {
   "cell_type": "code",
   "execution_count": 20,
   "metadata": {
    "collapsed": false
   },
   "outputs": [
    {
     "data": {
      "image/png": "[encoded data removed]",
      "text/plain": [
       "<matplotlib.figure.Figure at 0xbed6128>"
      ]
     },
     "metadata": {},
     "output_type": "display_data"
    }
   ],
   "source": [
    "# Plot the auc's against our measure of flexibility, $k$\n",
    "plt.plot(k_vals, aucs)\n",
    "plt.xlabel(\"k\")\n",
    "plt.ylabel(\"Test AUC\")\n",
    "plt.show()"
   ]
  },
  {
   "cell_type": "markdown",
   "metadata": {},
   "source": [
    "We see that the test AUC is maximized at $k=3$ for this specific train/validate split."
   ]
  },
  {
   "cell_type": "markdown",
   "metadata": {},
   "source": [
    "# Cross-Validation\n",
    "\n",
    "Instead of using a train/test split, scikit-learn has a really nice way to use cross-validation to choose the tuneable parameters of a model.  First, we make a dictionary, where the key is the name of the parameter we want to tune (it has to match the name of the parameter in the model), and the values are the values we want to try:"
   ]
  },
  {
   "cell_type": "code",
   "execution_count": 22,
   "metadata": {
    "collapsed": false
   },
   "outputs": [],
   "source": [
    "k_vals = np.linspace(1,30,30)\n",
    "param_grid = {\"n_neighbors\": k_vals}"
   ]
  },
  {
   "cell_type": "markdown",
   "metadata": {},
   "source": [
    "Then, we pass in the model we want to fit and the grid.  The option 'n_jobs' allows us to split the cross-validation over multiple cores of your computer, and `refit` tells it to fit the best performing model on the full dataset once it's done."
   ]
  },
  {
   "cell_type": "code",
   "execution_count": 23,
   "metadata": {
    "collapsed": false
   },
   "outputs": [
    {
     "name": "stderr",
     "output_type": "stream",
     "text": [
      "[Parallel(n_jobs=4)]: Done  42 tasks      | elapsed:  1.4min\n",
      "[Parallel(n_jobs=4)]: Done 300 out of 300 | elapsed:  1.4min finished\n"
     ]
    },
    {
     "name": "stdout",
     "output_type": "stream",
     "text": [
      "Fitting 10 folds for each of 30 candidates, totalling 300 fits\n"
     ]
    },
    {
     "data": {
      "text/plain": [
       "GridSearchCV(cv=10, error_score='raise',\n",
       "       estimator=KNeighborsClassifier(algorithm='auto', leaf_size=30, metric='minkowski',\n",
       "           metric_params=None, n_jobs=1, n_neighbors=15.0, p=2,\n",
       "           weights='uniform'),\n",
       "       fit_params={}, iid=True, n_jobs=4,\n",
       "       param_grid={'n_neighbors': array([  1.,   2.,   3.,   4.,   5.,   6.,   7.,   8.,   9.,  10.,  11.,\n",
       "        12.,  13.,  14.,  15.,  16.,  17.,  18.,  19.,  20.,  21.,  22.,\n",
       "        23.,  24.,  25.,  26.,  27.,  28.,  29.,  30.])},\n",
       "       pre_dispatch='2*n_jobs', refit=True, scoring=None, verbose=True)"
      ]
     },
     "execution_count": 23,
     "metadata": {},
     "output_type": "execute_result"
    }
   ],
   "source": [
    "cv = GridSearchCV(kNN, param_grid, cv=10, n_jobs=4, refit=True, verbose=True)\n",
    "cv.fit(X_train, y_train) # Notice that we're doing cross-validation within our training set."
   ]
  },
  {
   "cell_type": "markdown",
   "metadata": {},
   "source": [
    "We can see the best values and the grid scores:"
   ]
  },
  {
   "cell_type": "code",
   "execution_count": 24,
   "metadata": {
    "collapsed": false
   },
   "outputs": [
    {
     "data": {
      "text/plain": [
       "KNeighborsClassifier(algorithm='auto', leaf_size=30, metric='minkowski',\n",
       "           metric_params=None, n_jobs=1, n_neighbors=14.0, p=2,\n",
       "           weights='uniform')"
      ]
     },
     "execution_count": 24,
     "metadata": {},
     "output_type": "execute_result"
    }
   ],
   "source": [
    "cv.best_estimator_"
   ]
  },
  {
   "cell_type": "code",
   "execution_count": 25,
   "metadata": {
    "collapsed": false
   },
   "outputs": [
    {
     "data": {
      "text/plain": [
       "{'n_neighbors': 14.0}"
      ]
     },
     "execution_count": 25,
     "metadata": {},
     "output_type": "execute_result"
    }
   ],
   "source": [
    "cv.best_params_"
   ]
  },
  {
   "cell_type": "code",
   "execution_count": 26,
   "metadata": {
    "collapsed": false
   },
   "outputs": [
    {
     "data": {
      "text/plain": [
       "0.8532608695652174"
      ]
     },
     "execution_count": 26,
     "metadata": {},
     "output_type": "execute_result"
    }
   ],
   "source": [
    "cv.best_score_"
   ]
  },
  {
   "cell_type": "code",
   "execution_count": 27,
   "metadata": {
    "collapsed": false
   },
   "outputs": [
    {
     "data": {
      "text/plain": [
       "[mean: 0.73913, std: 0.12913, params: {'n_neighbors': 1.0},\n",
       " mean: 0.71196, std: 0.12369, params: {'n_neighbors': 2.0},\n",
       " mean: 0.78261, std: 0.08736, params: {'n_neighbors': 3.0},\n",
       " mean: 0.75543, std: 0.09676, params: {'n_neighbors': 4.0},\n",
       " mean: 0.79348, std: 0.05434, params: {'n_neighbors': 5.0},\n",
       " mean: 0.76630, std: 0.08053, params: {'n_neighbors': 6.0},\n",
       " mean: 0.80978, std: 0.04142, params: {'n_neighbors': 7.0},\n",
       " mean: 0.81522, std: 0.04608, params: {'n_neighbors': 8.0},\n",
       " mean: 0.84239, std: 0.05318, params: {'n_neighbors': 9.0},\n",
       " mean: 0.83152, std: 0.05794, params: {'n_neighbors': 10.0},\n",
       " mean: 0.83696, std: 0.05672, params: {'n_neighbors': 11.0},\n",
       " mean: 0.84239, std: 0.05318, params: {'n_neighbors': 12.0},\n",
       " mean: 0.84239, std: 0.05318, params: {'n_neighbors': 13.0},\n",
       " mean: 0.85326, std: 0.06098, params: {'n_neighbors': 14.0},\n",
       " mean: 0.85326, std: 0.06098, params: {'n_neighbors': 15.0},\n",
       " mean: 0.84239, std: 0.05870, params: {'n_neighbors': 16.0},\n",
       " mean: 0.84783, std: 0.05473, params: {'n_neighbors': 17.0},\n",
       " mean: 0.83696, std: 0.05984, params: {'n_neighbors': 18.0},\n",
       " mean: 0.84239, std: 0.06167, params: {'n_neighbors': 19.0},\n",
       " mean: 0.84239, std: 0.05758, params: {'n_neighbors': 20.0},\n",
       " mean: 0.84239, std: 0.05758, params: {'n_neighbors': 21.0},\n",
       " mean: 0.84239, std: 0.04769, params: {'n_neighbors': 22.0},\n",
       " mean: 0.84239, std: 0.04769, params: {'n_neighbors': 23.0},\n",
       " mean: 0.84239, std: 0.04769, params: {'n_neighbors': 24.0},\n",
       " mean: 0.84783, std: 0.04942, params: {'n_neighbors': 25.0},\n",
       " mean: 0.84783, std: 0.04942, params: {'n_neighbors': 26.0},\n",
       " mean: 0.85326, std: 0.05047, params: {'n_neighbors': 27.0},\n",
       " mean: 0.84239, std: 0.04769, params: {'n_neighbors': 28.0},\n",
       " mean: 0.84239, std: 0.04769, params: {'n_neighbors': 29.0},\n",
       " mean: 0.84239, std: 0.04769, params: {'n_neighbors': 30.0}]"
      ]
     },
     "execution_count": 27,
     "metadata": {},
     "output_type": "execute_result"
    }
   ],
   "source": [
    "cv.grid_scores_"
   ]
  },
  {
   "cell_type": "code",
   "execution_count": 28,
   "metadata": {
    "collapsed": false
   },
   "outputs": [
    {
     "data": {
      "text/plain": [
       "0.7391304347826086"
      ]
     },
     "execution_count": 28,
     "metadata": {},
     "output_type": "execute_result"
    }
   ],
   "source": [
    "cv.grid_scores_[0][1] # Pulls the mean out-of-sample AUC for the first model that was tried (k-nn with n = 1)"
   ]
  },
  {
   "cell_type": "code",
   "execution_count": 29,
   "metadata": {
    "collapsed": false
   },
   "outputs": [
    {
     "data": {
      "text/plain": [
       "0.12913420843383117"
      ]
     },
     "execution_count": 29,
     "metadata": {},
     "output_type": "execute_result"
    }
   ],
   "source": [
    "cv.grid_scores_[0][2].std() # Pulls the standard deviation of the out-of-sample AUC's for the k=1 nearest neighbor model"
   ]
  },
  {
   "cell_type": "markdown",
   "metadata": {},
   "source": [
    "Now, let's plot the cross-validation estimates for the test AUC"
   ]
  },
  {
   "cell_type": "code",
   "execution_count": 31,
   "metadata": {
    "collapsed": false
   },
   "outputs": [],
   "source": [
    "scores = np.array([x[1] for x in cv.grid_scores_]) # Get the mean out-of-sample AUC for all values of k\n",
    "std_devs = np.array([x[2].std() for x in cv.grid_scores_]) # Get the standard deviation of the out-of-sample AUC for all values of k"
   ]
  },
  {
   "cell_type": "code",
   "execution_count": 32,
   "metadata": {
    "collapsed": false
   },
   "outputs": [
    {
     "data": {
      "image/png": "[encoded data removed]",
      "text/plain": [
       "<matplotlib.figure.Figure at 0xc197b00>"
      ]
     },
     "metadata": {},
     "output_type": "display_data"
    }
   ],
   "source": [
    "plt.plot(k_vals,scores)\n",
    "plt.fill_between(k_vals, scores - std_devs,\n",
    "                 scores + std_devs, alpha=0.2,\n",
    "                 color=\"darkorange\")\n",
    "plt.xlabel(\"k\")\n",
    "plt.ylabel(\"CV AUC\")\n",
    "plt.show()"
   ]
  },
  {
   "cell_type": "markdown",
   "metadata": {},
   "source": [
    "We see that the k-nn model with $k=3$ is clearly worse than the less flexible models with larger values of $k$.  Since cross-validation generally gives a better estimate of test error the the validation set approach, we can conclde that the less flexible model with $k=14$ should be used over the model with $k=3$.  This is an example of the bias-variance tradeoff -the more flexible model with $k=3$ does not do as well as the less flexible model with $k=14$."
   ]
  },
  {
   "cell_type": "markdown",
   "metadata": {},
   "source": [
    "Next, we take the best model from the cross-validation exercise (which GridSearchCV has already fit on the full dataset for us) and predict on the original validation set."
   ]
  },
  {
   "cell_type": "code",
   "execution_count": 33,
   "metadata": {
    "collapsed": false
   },
   "outputs": [
    {
     "data": {
      "text/plain": [
       "array([ 0.        ,  0.64285714,  0.92857143,  0.        ,  0.71428571,\n",
       "        0.85714286,  0.71428571,  0.92857143,  0.07142857,  0.78571429,\n",
       "        0.92857143,  0.07142857,  0.5       ,  0.71428571,  0.28571429,\n",
       "        0.57142857,  0.71428571,  0.07142857,  0.71428571,  0.71428571,\n",
       "        0.78571429,  0.92857143,  0.64285714,  0.        ,  0.        ,\n",
       "        0.        ,  0.78571429,  0.        ,  0.5       ,  0.        ,\n",
       "        0.78571429,  0.78571429,  0.42857143,  0.        ,  0.78571429,\n",
       "        0.        ,  0.85714286,  0.92857143,  0.85714286,  0.78571429,\n",
       "        0.        ,  0.85714286,  1.        ,  0.85714286,  0.07142857,\n",
       "        0.        ,  0.57142857,  0.        ,  0.71428571,  0.78571429,\n",
       "        1.        ,  0.71428571,  0.85714286,  0.85714286,  0.85714286,\n",
       "        0.85714286,  0.57142857,  0.85714286,  0.78571429,  0.        ,\n",
       "        0.71428571,  0.        ,  0.78571429,  0.        ,  0.64285714,\n",
       "        0.07142857,  0.85714286,  0.71428571,  0.85714286,  0.        ,\n",
       "        1.        ,  0.21428571,  0.        ,  0.        ,  0.78571429,\n",
       "        0.92857143,  0.85714286,  0.        ,  0.        ])"
      ]
     },
     "execution_count": 33,
     "metadata": {},
     "output_type": "execute_result"
    }
   ],
   "source": [
    "test_preds = cv.best_estimator_.predict_proba(X_test)[:, 1]\n",
    "test_preds"
   ]
  },
  {
   "cell_type": "code",
   "execution_count": 34,
   "metadata": {
    "collapsed": false
   },
   "outputs": [
    {
     "data": {
      "text/plain": [
       "0.83815958815958824"
      ]
     },
     "execution_count": 34,
     "metadata": {},
     "output_type": "execute_result"
    }
   ],
   "source": [
    "roc_auc_score(y_test, test_preds)"
   ]
  },
  {
   "cell_type": "code",
   "execution_count": null,
   "metadata": {
    "collapsed": true
   },
   "outputs": [],
   "source": []
  }
 ],
 "metadata": {
  "anaconda-cloud": {},
  "kernelspec": {
   "display_name": "Python 2",
   "language": "python",
   "name": "python2"
  },
  "language_info": {
   "codemirror_mode": {
    "name": "ipython",
    "version": 2
   },
   "file_extension": ".py",
   "mimetype": "text/x-python",
   "name": "python",
   "nbconvert_exporter": "python",
   "pygments_lexer": "ipython2",
   "version": "2.7.12"
  }
 },
 "nbformat": 4,
 "nbformat_minor": 0
}
